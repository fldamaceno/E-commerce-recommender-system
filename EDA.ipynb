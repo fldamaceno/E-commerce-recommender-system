{
 "cells": [
  {
   "cell_type": "markdown",
   "id": "202b4998",
   "metadata": {},
   "source": [
    "## Data Exploring, Cleaning and Feature Engineering"
   ]
  },
  {
   "cell_type": "markdown",
   "id": "56433bdb",
   "metadata": {},
   "source": [
    "### Events"
   ]
  },
  {
   "cell_type": "markdown",
   "id": "5ef113df",
   "metadata": {},
   "source": [
    "#### Overall"
   ]
  },
  {
   "cell_type": "code",
   "execution_count": null,
   "id": "7adee7cb",
   "metadata": {},
   "outputs": [
    {
     "data": {
      "text/html": [
       "<div>\n",
       "<style scoped>\n",
       "    .dataframe tbody tr th:only-of-type {\n",
       "        vertical-align: middle;\n",
       "    }\n",
       "\n",
       "    .dataframe tbody tr th {\n",
       "        vertical-align: top;\n",
       "    }\n",
       "\n",
       "    .dataframe thead th {\n",
       "        text-align: right;\n",
       "    }\n",
       "</style>\n",
       "<table border=\"1\" class=\"dataframe\">\n",
       "  <thead>\n",
       "    <tr style=\"text-align: right;\">\n",
       "      <th></th>\n",
       "      <th>timestamp</th>\n",
       "      <th>visitorid</th>\n",
       "      <th>event</th>\n",
       "      <th>itemid</th>\n",
       "      <th>transactionid</th>\n",
       "    </tr>\n",
       "  </thead>\n",
       "  <tbody>\n",
       "    <tr>\n",
       "      <th>0</th>\n",
       "      <td>1433221332117</td>\n",
       "      <td>257597</td>\n",
       "      <td>view</td>\n",
       "      <td>355908</td>\n",
       "      <td>NaN</td>\n",
       "    </tr>\n",
       "    <tr>\n",
       "      <th>1</th>\n",
       "      <td>1433224214164</td>\n",
       "      <td>992329</td>\n",
       "      <td>view</td>\n",
       "      <td>248676</td>\n",
       "      <td>NaN</td>\n",
       "    </tr>\n",
       "    <tr>\n",
       "      <th>2</th>\n",
       "      <td>1433221999827</td>\n",
       "      <td>111016</td>\n",
       "      <td>view</td>\n",
       "      <td>318965</td>\n",
       "      <td>NaN</td>\n",
       "    </tr>\n",
       "    <tr>\n",
       "      <th>3</th>\n",
       "      <td>1433221955914</td>\n",
       "      <td>483717</td>\n",
       "      <td>view</td>\n",
       "      <td>253185</td>\n",
       "      <td>NaN</td>\n",
       "    </tr>\n",
       "    <tr>\n",
       "      <th>4</th>\n",
       "      <td>1433221337106</td>\n",
       "      <td>951259</td>\n",
       "      <td>view</td>\n",
       "      <td>367447</td>\n",
       "      <td>NaN</td>\n",
       "    </tr>\n",
       "  </tbody>\n",
       "</table>\n",
       "</div>"
      ],
      "text/plain": [
       "       timestamp  visitorid event  itemid  transactionid\n",
       "0  1433221332117     257597  view  355908            NaN\n",
       "1  1433224214164     992329  view  248676            NaN\n",
       "2  1433221999827     111016  view  318965            NaN\n",
       "3  1433221955914     483717  view  253185            NaN\n",
       "4  1433221337106     951259  view  367447            NaN"
      ]
     },
     "metadata": {},
     "output_type": "display_data"
    }
   ],
   "source": [
    "events.head()"
   ]
  },
  {
   "cell_type": "code",
   "execution_count": null,
   "id": "397c0fb3",
   "metadata": {},
   "outputs": [
    {
     "data": {
      "text/plain": [
       "2756101"
      ]
     },
     "metadata": {},
     "output_type": "display_data"
    }
   ],
   "source": [
    "# Check the size of the dataset\n",
    "len(events)"
   ]
  },
  {
   "cell_type": "code",
   "execution_count": null,
   "id": "9831111b",
   "metadata": {},
   "outputs": [
    {
     "data": {
      "text/plain": [
       "timestamp          int64\n",
       "visitorid          int64\n",
       "event             object\n",
       "itemid             int64\n",
       "transactionid    float64\n",
       "dtype: object"
      ]
     },
     "metadata": {},
     "output_type": "display_data"
    }
   ],
   "source": [
    "# Check the data types of the columns\n",
    "events.dtypes"
   ]
  },
  {
   "cell_type": "code",
   "execution_count": null,
   "id": "5314b9df",
   "metadata": {},
   "outputs": [
    {
     "data": {
      "text/plain": [
       "timestamp              0\n",
       "visitorid              0\n",
       "event                  0\n",
       "itemid                 0\n",
       "transactionid    2733644\n",
       "dtype: int64"
      ]
     },
     "metadata": {},
     "output_type": "display_data"
    }
   ],
   "source": [
    "# Check null values in the events DataFrame\n",
    "events.isnull().sum()"
   ]
  },
  {
   "cell_type": "code",
   "execution_count": null,
   "id": "6ed5cf78",
   "metadata": {},
   "outputs": [
    {
     "data": {
      "text/plain": [
       "460"
      ]
     },
     "metadata": {},
     "output_type": "display_data"
    }
   ],
   "source": [
    "# Check if there are any duplicate entries in the events DataFrame\n",
    "events[events.duplicated(keep='first')==True].shape[0]"
   ]
  },
  {
   "cell_type": "code",
   "execution_count": null,
   "id": "1333a149",
   "metadata": {},
   "outputs": [],
   "source": [
    "# Drop duplicates\n",
    "events.drop_duplicates(keep='first', inplace=True)"
   ]
  },
  {
   "cell_type": "markdown",
   "id": "f4bf607d",
   "metadata": {},
   "source": [
    "#### transactionid"
   ]
  },
  {
   "cell_type": "markdown",
   "id": "897c6464",
   "metadata": {},
   "source": [
    "Looks like transctionid is not null only for certain events"
   ]
  },
  {
   "cell_type": "code",
   "execution_count": null,
   "id": "7a8b9d7a",
   "metadata": {},
   "outputs": [
    {
     "data": {
      "text/html": [
       "<div>\n",
       "<style scoped>\n",
       "    .dataframe tbody tr th:only-of-type {\n",
       "        vertical-align: middle;\n",
       "    }\n",
       "\n",
       "    .dataframe tbody tr th {\n",
       "        vertical-align: top;\n",
       "    }\n",
       "\n",
       "    .dataframe thead th {\n",
       "        text-align: right;\n",
       "    }\n",
       "</style>\n",
       "<table border=\"1\" class=\"dataframe\">\n",
       "  <thead>\n",
       "    <tr style=\"text-align: right;\">\n",
       "      <th></th>\n",
       "      <th>timestamp</th>\n",
       "      <th>visitorid</th>\n",
       "      <th>event</th>\n",
       "      <th>itemid</th>\n",
       "      <th>transactionid</th>\n",
       "    </tr>\n",
       "  </thead>\n",
       "  <tbody>\n",
       "    <tr>\n",
       "      <th>130</th>\n",
       "      <td>1433222276276</td>\n",
       "      <td>599528</td>\n",
       "      <td>transaction</td>\n",
       "      <td>356475</td>\n",
       "      <td>4000.0</td>\n",
       "    </tr>\n",
       "    <tr>\n",
       "      <th>304</th>\n",
       "      <td>1433193500981</td>\n",
       "      <td>121688</td>\n",
       "      <td>transaction</td>\n",
       "      <td>15335</td>\n",
       "      <td>11117.0</td>\n",
       "    </tr>\n",
       "    <tr>\n",
       "      <th>418</th>\n",
       "      <td>1433193915008</td>\n",
       "      <td>552148</td>\n",
       "      <td>transaction</td>\n",
       "      <td>81345</td>\n",
       "      <td>5444.0</td>\n",
       "    </tr>\n",
       "    <tr>\n",
       "      <th>814</th>\n",
       "      <td>1433176736375</td>\n",
       "      <td>102019</td>\n",
       "      <td>transaction</td>\n",
       "      <td>150318</td>\n",
       "      <td>13556.0</td>\n",
       "    </tr>\n",
       "    <tr>\n",
       "      <th>843</th>\n",
       "      <td>1433174518180</td>\n",
       "      <td>189384</td>\n",
       "      <td>transaction</td>\n",
       "      <td>310791</td>\n",
       "      <td>7244.0</td>\n",
       "    </tr>\n",
       "    <tr>\n",
       "      <th>...</th>\n",
       "      <td>...</td>\n",
       "      <td>...</td>\n",
       "      <td>...</td>\n",
       "      <td>...</td>\n",
       "      <td>...</td>\n",
       "    </tr>\n",
       "    <tr>\n",
       "      <th>2755294</th>\n",
       "      <td>1438377176570</td>\n",
       "      <td>1050575</td>\n",
       "      <td>transaction</td>\n",
       "      <td>31640</td>\n",
       "      <td>8354.0</td>\n",
       "    </tr>\n",
       "    <tr>\n",
       "      <th>2755349</th>\n",
       "      <td>1438379878779</td>\n",
       "      <td>861299</td>\n",
       "      <td>transaction</td>\n",
       "      <td>456602</td>\n",
       "      <td>3643.0</td>\n",
       "    </tr>\n",
       "    <tr>\n",
       "      <th>2755508</th>\n",
       "      <td>1438357730123</td>\n",
       "      <td>855941</td>\n",
       "      <td>transaction</td>\n",
       "      <td>235771</td>\n",
       "      <td>4385.0</td>\n",
       "    </tr>\n",
       "    <tr>\n",
       "      <th>2755603</th>\n",
       "      <td>1438355560300</td>\n",
       "      <td>548772</td>\n",
       "      <td>transaction</td>\n",
       "      <td>29167</td>\n",
       "      <td>13872.0</td>\n",
       "    </tr>\n",
       "    <tr>\n",
       "      <th>2755607</th>\n",
       "      <td>1438358989163</td>\n",
       "      <td>1051054</td>\n",
       "      <td>transaction</td>\n",
       "      <td>312728</td>\n",
       "      <td>17579.0</td>\n",
       "    </tr>\n",
       "  </tbody>\n",
       "</table>\n",
       "<p>22457 rows × 5 columns</p>\n",
       "</div>"
      ],
      "text/plain": [
       "             timestamp  visitorid        event  itemid  transactionid\n",
       "130      1433222276276     599528  transaction  356475         4000.0\n",
       "304      1433193500981     121688  transaction   15335        11117.0\n",
       "418      1433193915008     552148  transaction   81345         5444.0\n",
       "814      1433176736375     102019  transaction  150318        13556.0\n",
       "843      1433174518180     189384  transaction  310791         7244.0\n",
       "...                ...        ...          ...     ...            ...\n",
       "2755294  1438377176570    1050575  transaction   31640         8354.0\n",
       "2755349  1438379878779     861299  transaction  456602         3643.0\n",
       "2755508  1438357730123     855941  transaction  235771         4385.0\n",
       "2755603  1438355560300     548772  transaction   29167        13872.0\n",
       "2755607  1438358989163    1051054  transaction  312728        17579.0\n",
       "\n",
       "[22457 rows x 5 columns]"
      ]
     },
     "metadata": {},
     "output_type": "display_data"
    }
   ],
   "source": [
    "# Check transactionid non null values\n",
    "events[~events['transactionid'].isnull()]"
   ]
  },
  {
   "cell_type": "code",
   "execution_count": null,
   "id": "cbd3a3c1",
   "metadata": {},
   "outputs": [
    {
     "data": {
      "text/plain": [
       "array(['transaction'], dtype=object)"
      ]
     },
     "metadata": {},
     "output_type": "display_data"
    }
   ],
   "source": [
    "# Check the reason for the non null values in transactionid\n",
    "events[~events['transactionid'].isnull()]['event'].unique()"
   ]
  },
  {
   "cell_type": "code",
   "execution_count": null,
   "id": "13f7ccf0",
   "metadata": {},
   "outputs": [
    {
     "data": {
      "text/plain": [
       "np.int64(0)"
      ]
     },
     "metadata": {},
     "output_type": "display_data"
    }
   ],
   "source": [
    "# Check if there are transactionid values that are null when the event is 'transaction'\n",
    "events[events['event'] == 'transaction']['transactionid'].isnull().sum()"
   ]
  },
  {
   "cell_type": "markdown",
   "id": "773ffdfe",
   "metadata": {},
   "source": [
    "transactionid is not null only when the event is 'transaction'. For the dataset, transactionid is the amount spent in each event, so it makes sense to have it only when event is transaction"
   ]
  },
  {
   "cell_type": "markdown",
   "id": "cb6550a9",
   "metadata": {},
   "source": [
    "#### timestamp"
   ]
  },
  {
   "cell_type": "markdown",
   "id": "329ee55d",
   "metadata": {},
   "source": [
    "Seems like timestamp is a Unix column. I am going to convert it to datetime"
   ]
  },
  {
   "cell_type": "code",
   "execution_count": null,
   "id": "545bd85e",
   "metadata": {},
   "outputs": [],
   "source": [
    "# Convert 'timestamp' to datetime format and sort by 'timestamp'\n",
    "events['timestamp'] = pd.to_datetime(events['timestamp'], unit='ms', origin='unix')\n",
    "events.sort_values('timestamp', inplace=True)"
   ]
  },
  {
   "cell_type": "code",
   "execution_count": null,
   "id": "ced14764",
   "metadata": {},
   "outputs": [
    {
     "data": {
      "text/plain": [
       "137"
      ]
     },
     "metadata": {},
     "output_type": "display_data"
    }
   ],
   "source": [
    "# Check time range of events\n",
    "timedelta = (events['timestamp'].iloc[-1]-events['timestamp'].iloc[0]).days\n",
    "timedelta"
   ]
  },
  {
   "cell_type": "markdown",
   "id": "2d051ab3",
   "metadata": {},
   "source": [
    "#### event"
   ]
  },
  {
   "cell_type": "code",
   "execution_count": null,
   "id": "e40425b8",
   "metadata": {},
   "outputs": [
    {
     "data": {
      "text/plain": [
       "array(['addtocart', 'view', 'transaction'], dtype=object)"
      ]
     },
     "metadata": {},
     "output_type": "display_data"
    }
   ],
   "source": [
    "# Check the type of events\n",
    "events['event'].unique()"
   ]
  },
  {
   "cell_type": "code",
   "execution_count": null,
   "id": "856bdadd",
   "metadata": {},
   "outputs": [
    {
     "name": "stdout",
     "output_type": "stream",
     "text": [
      "Number of transactions: 22457\n",
      "Number of views: 2664218\n",
      "Number of addtocart: 68966\n"
     ]
    }
   ],
   "source": [
    "print(\"Number of transactions:\",events[events['event'] == 'transaction'].shape[0])\n",
    "print(\"Number of views:\",events[events['event'] == 'view'].shape[0])\n",
    "print(\"Number of addtocart:\",events[events['event'] == 'addtocart'].shape[0])\n"
   ]
  },
  {
   "cell_type": "markdown",
   "id": "b100e763",
   "metadata": {},
   "source": [
    "#### visitorid"
   ]
  },
  {
   "cell_type": "code",
   "execution_count": null,
   "id": "bf37b0bb",
   "metadata": {},
   "outputs": [
    {
     "data": {
      "text/plain": [
       "1407580"
      ]
     },
     "metadata": {},
     "output_type": "display_data"
    }
   ],
   "source": [
    "# Check the number of unique visitors\n",
    "events['visitorid'].unique().shape[0]"
   ]
  },
  {
   "cell_type": "code",
   "execution_count": null,
   "id": "ad27014f",
   "metadata": {},
   "outputs": [
    {
     "data": {
      "text/plain": [
       "11719"
      ]
     },
     "metadata": {},
     "output_type": "display_data"
    }
   ],
   "source": [
    "# Check how many unique visitors actually made a purchase\n",
    "events[events['event'] == 'transaction']['visitorid'].unique().shape[0]"
   ]
  },
  {
   "cell_type": "code",
   "execution_count": null,
   "id": "239533d2",
   "metadata": {},
   "outputs": [
    {
     "data": {
      "text/plain": [
       "37722"
      ]
     },
     "metadata": {},
     "output_type": "display_data"
    }
   ],
   "source": [
    "# Check how many unique visitors added items to their cart\n",
    "events[events['event'] == 'addtocart']['visitorid'].unique().shape[0]"
   ]
  },
  {
   "cell_type": "code",
   "execution_count": null,
   "id": "91869dd8",
   "metadata": {},
   "outputs": [
    {
     "data": {
      "text/plain": [
       "10576"
      ]
     },
     "metadata": {},
     "output_type": "display_data"
    }
   ],
   "source": [
    "# Check if the same visitorid appears in both 'addtocart' and 'transaction' events\n",
    "events[(events['event'] == 'addtocart') & \n",
    "       (events['visitorid']\n",
    "        .isin(events[events['event'] == 'transaction']['visitorid']))]['visitorid'].unique().shape[0]"
   ]
  },
  {
   "cell_type": "code",
   "execution_count": null,
   "id": "81d696f9",
   "metadata": {},
   "outputs": [
    {
     "data": {
      "text/plain": [
       "1143"
      ]
     },
     "metadata": {},
     "output_type": "display_data"
    }
   ],
   "source": [
    "# Check the visitorid that made a purchase but did not add items to their cart\n",
    "events[(events['event'] == 'transaction') & \n",
    "       (events['visitorid']\n",
    "        .isin(events[events['event'] == 'addtocart']['visitorid'])==False)]['visitorid'].unique().shape[0]"
   ]
  },
  {
   "cell_type": "code",
   "execution_count": null,
   "id": "6a131894",
   "metadata": {},
   "outputs": [
    {
     "data": {
      "text/plain": [
       "428"
      ]
     },
     "metadata": {},
     "output_type": "display_data"
    }
   ],
   "source": [
    "# Check the visitorid that made a purchase but did not viewed any items\n",
    "events[(events['event'] == 'transaction') & \n",
    "       (events['visitorid']\n",
    "        .isin(events[events['event'] == 'view']['visitorid'])==False)]['visitorid'].unique().shape[0]"
   ]
  },
  {
   "cell_type": "code",
   "execution_count": null,
   "id": "cc7caafb",
   "metadata": {},
   "outputs": [
    {
     "data": {
      "text/plain": [
       "80"
      ]
     },
     "metadata": {},
     "output_type": "display_data"
    }
   ],
   "source": [
    "# Check the visitorid that made a purchase but did not viewed or added any items to their cart\n",
    "events[(events['event'] == 'transaction') & \n",
    "       (events['visitorid']\n",
    "        .isin(events[events['event'] == 'view']['visitorid'])==False) & \n",
    "       (events['visitorid']\n",
    "        .isin(events[events['event'] == 'addtocart']['visitorid'])==False)]['visitorid'].unique().shape[0]"
   ]
  },
  {
   "cell_type": "markdown",
   "id": "1a082363",
   "metadata": {},
   "source": [
    "The visitorid that made purchases but did not viewed or added any items to their carts are strong candidates to be taken out of the dataset, since we cannot track their preferences and, therefore, train the bandits."
   ]
  },
  {
   "cell_type": "code",
   "execution_count": null,
   "id": "66f208d2",
   "metadata": {
    "vscode": {
     "languageId": "ruby"
    }
   },
   "outputs": [
    {
     "data": {
      "text/html": [
       "<div>\n",
       "<style scoped>\n",
       "    .dataframe tbody tr th:only-of-type {\n",
       "        vertical-align: middle;\n",
       "    }\n",
       "\n",
       "    .dataframe tbody tr th {\n",
       "        vertical-align: top;\n",
       "    }\n",
       "\n",
       "    .dataframe thead th {\n",
       "        text-align: right;\n",
       "    }\n",
       "</style>\n",
       "<table border=\"1\" class=\"dataframe\">\n",
       "  <thead>\n",
       "    <tr style=\"text-align: right;\">\n",
       "      <th></th>\n",
       "      <th>min</th>\n",
       "      <th>max</th>\n",
       "      <th>days_active</th>\n",
       "      <th>total_interactions</th>\n",
       "      <th>interactions_per_day</th>\n",
       "    </tr>\n",
       "    <tr>\n",
       "      <th>visitorid</th>\n",
       "      <th></th>\n",
       "      <th></th>\n",
       "      <th></th>\n",
       "      <th></th>\n",
       "      <th></th>\n",
       "    </tr>\n",
       "  </thead>\n",
       "  <tbody>\n",
       "    <tr>\n",
       "      <th>530033</th>\n",
       "      <td>2015-06-04 14:55:58.341</td>\n",
       "      <td>2015-06-05 03:04:22.589</td>\n",
       "      <td>1</td>\n",
       "      <td>310</td>\n",
       "      <td>310.000000</td>\n",
       "    </tr>\n",
       "    <tr>\n",
       "      <th>1039026</th>\n",
       "      <td>2015-05-20 20:06:52.095</td>\n",
       "      <td>2015-05-21 02:13:22.333</td>\n",
       "      <td>1</td>\n",
       "      <td>284</td>\n",
       "      <td>284.000000</td>\n",
       "    </tr>\n",
       "    <tr>\n",
       "      <th>962131</th>\n",
       "      <td>2015-07-18 16:00:57.887</td>\n",
       "      <td>2015-07-19 15:01:36.400</td>\n",
       "      <td>1</td>\n",
       "      <td>267</td>\n",
       "      <td>267.000000</td>\n",
       "    </tr>\n",
       "    <tr>\n",
       "      <th>966491</th>\n",
       "      <td>2015-07-01 15:01:28.195</td>\n",
       "      <td>2015-07-02 02:28:23.676</td>\n",
       "      <td>1</td>\n",
       "      <td>250</td>\n",
       "      <td>250.000000</td>\n",
       "    </tr>\n",
       "    <tr>\n",
       "      <th>974226</th>\n",
       "      <td>2015-07-14 15:46:16.505</td>\n",
       "      <td>2015-07-17 03:11:16.204</td>\n",
       "      <td>3</td>\n",
       "      <td>694</td>\n",
       "      <td>231.333333</td>\n",
       "    </tr>\n",
       "    <tr>\n",
       "      <th>...</th>\n",
       "      <td>...</td>\n",
       "      <td>...</td>\n",
       "      <td>...</td>\n",
       "      <td>...</td>\n",
       "      <td>...</td>\n",
       "    </tr>\n",
       "    <tr>\n",
       "      <th>245403</th>\n",
       "      <td>2015-05-06 19:52:09.801</td>\n",
       "      <td>2015-09-09 03:47:26.643</td>\n",
       "      <td>126</td>\n",
       "      <td>30</td>\n",
       "      <td>0.238095</td>\n",
       "    </tr>\n",
       "    <tr>\n",
       "      <th>665707</th>\n",
       "      <td>2015-05-06 05:00:05.957</td>\n",
       "      <td>2015-09-10 04:27:18.343</td>\n",
       "      <td>127</td>\n",
       "      <td>30</td>\n",
       "      <td>0.236220</td>\n",
       "    </tr>\n",
       "    <tr>\n",
       "      <th>512411</th>\n",
       "      <td>2015-05-05 16:02:11.003</td>\n",
       "      <td>2015-09-14 15:45:12.246</td>\n",
       "      <td>132</td>\n",
       "      <td>31</td>\n",
       "      <td>0.234848</td>\n",
       "    </tr>\n",
       "    <tr>\n",
       "      <th>323132</th>\n",
       "      <td>2015-05-06 19:46:05.247</td>\n",
       "      <td>2015-09-14 23:43:32.212</td>\n",
       "      <td>132</td>\n",
       "      <td>31</td>\n",
       "      <td>0.234848</td>\n",
       "    </tr>\n",
       "    <tr>\n",
       "      <th>179314</th>\n",
       "      <td>2015-05-07 03:32:36.741</td>\n",
       "      <td>2015-09-17 18:09:53.372</td>\n",
       "      <td>134</td>\n",
       "      <td>31</td>\n",
       "      <td>0.231343</td>\n",
       "    </tr>\n",
       "  </tbody>\n",
       "</table>\n",
       "<p>3170 rows × 5 columns</p>\n",
       "</div>"
      ],
      "text/plain": [
       "                              min                     max  days_active  \\\n",
       "visitorid                                                                \n",
       "530033    2015-06-04 14:55:58.341 2015-06-05 03:04:22.589            1   \n",
       "1039026   2015-05-20 20:06:52.095 2015-05-21 02:13:22.333            1   \n",
       "962131    2015-07-18 16:00:57.887 2015-07-19 15:01:36.400            1   \n",
       "966491    2015-07-01 15:01:28.195 2015-07-02 02:28:23.676            1   \n",
       "974226    2015-07-14 15:46:16.505 2015-07-17 03:11:16.204            3   \n",
       "...                           ...                     ...          ...   \n",
       "245403    2015-05-06 19:52:09.801 2015-09-09 03:47:26.643          126   \n",
       "665707    2015-05-06 05:00:05.957 2015-09-10 04:27:18.343          127   \n",
       "512411    2015-05-05 16:02:11.003 2015-09-14 15:45:12.246          132   \n",
       "323132    2015-05-06 19:46:05.247 2015-09-14 23:43:32.212          132   \n",
       "179314    2015-05-07 03:32:36.741 2015-09-17 18:09:53.372          134   \n",
       "\n",
       "           total_interactions  interactions_per_day  \n",
       "visitorid                                            \n",
       "530033                    310            310.000000  \n",
       "1039026                   284            284.000000  \n",
       "962131                    267            267.000000  \n",
       "966491                    250            250.000000  \n",
       "974226                    694            231.333333  \n",
       "...                       ...                   ...  \n",
       "245403                     30              0.238095  \n",
       "665707                     30              0.236220  \n",
       "512411                     31              0.234848  \n",
       "323132                     31              0.234848  \n",
       "179314                     31              0.231343  \n",
       "\n",
       "[3170 rows x 5 columns]"
      ]
     },
     "metadata": {},
     "output_type": "display_data"
    }
   ],
   "source": [
    "# Calculate the number of interactions per visitor per day, considering only their active period\n",
    "\n",
    "# Get the first and last interaction timestamp for each visitor\n",
    "visitor_active_period = events.groupby('visitorid')['timestamp'].agg(['min', 'max'])\n",
    "\n",
    "# Calculate the number of days each visitor was active (inclusive)\n",
    "visitor_active_period['days_active'] = (visitor_active_period['max'] - visitor_active_period['min']).dt.days + 1\n",
    "\n",
    "# Count total interactions per visitor\n",
    "visitor_interactions = events.groupby('visitorid').size().rename('total_interactions')\n",
    "\n",
    "# Merge to get both total interactions and days active\n",
    "visitor_stats = visitor_active_period.join(visitor_interactions)\n",
    "\n",
    "# Calculate average interactions per day during active period\n",
    "visitor_stats['interactions_per_day'] = visitor_stats['total_interactions'] / visitor_stats['days_active']\n",
    "\n",
    "# Filter visitors with more than 29 interactions and sort by interactions per day\n",
    "visitor_stats[visitor_stats['total_interactions']>29].sort_values(by='interactions_per_day', ascending=False)"
   ]
  },
  {
   "cell_type": "markdown",
   "id": "bf120752",
   "metadata": {},
   "source": [
    "Visitors with less than 30 interactions are also strong candidates to be taken out of the dataset for the same reason above"
   ]
  },
  {
   "cell_type": "markdown",
   "id": "4a8e1e28",
   "metadata": {},
   "source": [
    "#### itemid"
   ]
  },
  {
   "cell_type": "code",
   "execution_count": null,
   "id": "bec1811d",
   "metadata": {},
   "outputs": [
    {
     "data": {
      "text/plain": [
       "235061"
      ]
     },
     "metadata": {},
     "output_type": "display_data"
    }
   ],
   "source": [
    "# Check the number of unique items\n",
    "events['itemid'].unique().shape[0]"
   ]
  },
  {
   "cell_type": "code",
   "execution_count": null,
   "id": "3a493357",
   "metadata": {},
   "outputs": [],
   "source": [
    "# Filter only events with itemid in properties\n",
    "events = events[events['itemid'].isin(properties['itemid'])]"
   ]
  },
  {
   "cell_type": "markdown",
   "id": "bd0239ff",
   "metadata": {},
   "source": [
    "##### view"
   ]
  },
  {
   "cell_type": "code",
   "execution_count": null,
   "id": "a88e9a95",
   "metadata": {},
   "outputs": [
    {
     "data": {
      "text/plain": [
       "185024"
      ]
     },
     "metadata": {},
     "output_type": "display_data"
    }
   ],
   "source": [
    "# Check the number of unique items that were viewed\n",
    "events[events['event'] == 'view']['itemid'].unique().shape[0]"
   ]
  },
  {
   "cell_type": "code",
   "execution_count": null,
   "id": "68d04476",
   "metadata": {},
   "outputs": [
    {
     "data": {
      "text/plain": [
       "itemid\n",
       "187946     0.141497\n",
       "461686     0.246810\n",
       "5411       0.343285\n",
       "370653     0.420216\n",
       "219512     0.492417\n",
       "            ...    \n",
       "266039    79.997759\n",
       "147964    79.998257\n",
       "207474    79.998755\n",
       "50250     79.999253\n",
       "53807     79.999751\n",
       "Name: proportion, Length: 40894, dtype: float64"
      ]
     },
     "metadata": {},
     "output_type": "display_data"
    }
   ],
   "source": [
    "# Check the items that represent 80% of the views\n",
    "events[events['event'] == 'view']['itemid']\\\n",
    "    .value_counts(normalize=True)\\\n",
    "        .sort_values(ascending=False)\\\n",
    "            .cumsum()\\\n",
    "                .loc[lambda x: x <= 0.8]*100"
   ]
  },
  {
   "cell_type": "markdown",
   "id": "cf007b9d",
   "metadata": {},
   "source": [
    "##### addtocart"
   ]
  },
  {
   "cell_type": "code",
   "execution_count": null,
   "id": "1bd608fe",
   "metadata": {},
   "outputs": [
    {
     "data": {
      "text/plain": [
       "23458"
      ]
     },
     "metadata": {},
     "output_type": "display_data"
    }
   ],
   "source": [
    "# Check the number of unique items that were added to cart events\n",
    "events[events['event'] == 'addtocart']['itemid'].unique().shape[0]"
   ]
  },
  {
   "cell_type": "code",
   "execution_count": null,
   "id": "cc0037c4",
   "metadata": {},
   "outputs": [
    {
     "data": {
      "text/plain": [
       "itemid\n",
       "461686     0.446186\n",
       "312728     0.682489\n",
       "409804     0.905582\n",
       "320130     1.112530\n",
       "29196      1.310672\n",
       "            ...    \n",
       "5790      79.986203\n",
       "192472    79.989139\n",
       "273940    79.992074\n",
       "102434    79.995010\n",
       "145298    79.997945\n",
       "Name: proportion, Length: 11038, dtype: float64"
      ]
     },
     "metadata": {},
     "output_type": "display_data"
    }
   ],
   "source": [
    "# Check the items that represent 80% of the added to cart events\n",
    "events[events['event'] == 'addtocart']['itemid']\\\n",
    "    .value_counts(normalize=True)\\\n",
    "        .sort_values(ascending=False)\\\n",
    "            .cumsum()\\\n",
    "                .loc[lambda x: x <= 0.8]*100"
   ]
  },
  {
   "cell_type": "markdown",
   "id": "3bcf432c",
   "metadata": {},
   "source": [
    "##### transaction"
   ]
  },
  {
   "cell_type": "code",
   "execution_count": null,
   "id": "8acb9e0c",
   "metadata": {},
   "outputs": [
    {
     "data": {
      "text/plain": [
       "11645"
      ]
     },
     "metadata": {},
     "output_type": "display_data"
    }
   ],
   "source": [
    "# Check the number of unique items that were purchased\n",
    "events[events['event'] == 'transaction']['itemid'].unique().shape[0]"
   ]
  },
  {
   "cell_type": "code",
   "execution_count": null,
   "id": "9af2a963",
   "metadata": {},
   "outputs": [
    {
     "data": {
      "text/plain": [
       "itemid\n",
       "461686     0.605040\n",
       "119736     1.046311\n",
       "213834     1.464835\n",
       "312728     1.674097\n",
       "7943       1.883359\n",
       "            ...    \n",
       "265780    79.979074\n",
       "135174    79.983623\n",
       "134906    79.988172\n",
       "146297    79.992721\n",
       "114514    79.997270\n",
       "Name: proportion, Length: 7248, dtype: float64"
      ]
     },
     "metadata": {},
     "output_type": "display_data"
    }
   ],
   "source": [
    "# Check the items that represent 80% of the purchases\n",
    "events[events['event'] == 'transaction']['itemid']\\\n",
    "    .value_counts(normalize=True)\\\n",
    "        .sort_values(ascending=False)\\\n",
    "            .cumsum()\\\n",
    "                .loc[lambda x: x <= 0.8]*100"
   ]
  },
  {
   "cell_type": "markdown",
   "id": "018d078e",
   "metadata": {},
   "source": [
    "3% of the registered products represent 80% of all purchases. Those are the strongest candidates to be recommended"
   ]
  },
  {
   "cell_type": "markdown",
   "id": "d03fa4c7",
   "metadata": {},
   "source": [
    "### Recommended items and user picking"
   ]
  },
  {
   "cell_type": "markdown",
   "id": "11f40b8a",
   "metadata": {},
   "source": [
    "#### Users"
   ]
  },
  {
   "cell_type": "code",
   "execution_count": null,
   "id": "f2672638",
   "metadata": {},
   "outputs": [],
   "source": [
    "# Get the users that interacted with the website at least 10 times\n",
    "users = visitor_stats[visitor_stats['total_interactions']>9].index.tolist()"
   ]
  },
  {
   "cell_type": "code",
   "execution_count": null,
   "id": "f939c6cf",
   "metadata": {},
   "outputs": [],
   "source": [
    "# Remove the visitorid that made a purchase but did not viewed or added any items to their cart\n",
    "users = pd.Series(users)[~pd.Series(users).isin(\n",
    "    events[\n",
    "        (events['event'] == 'transaction') &\n",
    "        (~events['visitorid'].isin(events[events['event'] == 'view']['visitorid'])) &\n",
    "        (~events['visitorid'].isin(events[events['event'] == 'addtocart']['visitorid']))\n",
    "    ]['visitorid'].unique()\n",
    ")]\n",
    "users = users.tolist()"
   ]
  },
  {
   "cell_type": "code",
   "execution_count": null,
   "id": "11bee0da",
   "metadata": {},
   "outputs": [],
   "source": [
    "# Filter the events DataFrame to only include the users that interacted with the website at least 30 times\n",
    "events = events[events['visitorid'].isin(users)]"
   ]
  },
  {
   "cell_type": "markdown",
   "id": "f3ca519f",
   "metadata": {},
   "source": [
    "#### Items"
   ]
  },
  {
   "cell_type": "code",
   "execution_count": null,
   "id": "09de6d5a",
   "metadata": {},
   "outputs": [],
   "source": [
    "# Store the most representative purchased items\n",
    "rec_items = events[events['event'] == 'transaction']['itemid']\\\n",
    "    .value_counts(normalize=True)\\\n",
    "        .sort_values(ascending=False)\\\n",
    "            .cumsum()\\\n",
    "                .loc[lambda x: x <= 0.8].index.tolist()"
   ]
  },
  {
   "cell_type": "markdown",
   "id": "06479452",
   "metadata": {},
   "source": [
    "There might be some items that were purchased but not viewed or added to cart. These could be taken out of the recommended items list as we want optimize the user interaction in all ways with the purchased items"
   ]
  },
  {
   "cell_type": "code",
   "execution_count": null,
   "id": "0f8820dc",
   "metadata": {},
   "outputs": [],
   "source": [
    "# Check if all items that were purchased were also viewed or added to cart\n",
    "purchased_notviewed_notadded = events[((events['event'] == 'transaction') & \n",
    "       (events['itemid']\n",
    "        .isin(events[events['event'] == 'view']['itemid'])==False)) | \n",
    "       ((events['event'] == 'transaction') & \n",
    "       (events['itemid']\n",
    "        .isin(events[events['event'] == 'addtocart']['itemid'])==False))]['itemid'].unique()\n"
   ]
  },
  {
   "cell_type": "code",
   "execution_count": null,
   "id": "f6c98c24",
   "metadata": {},
   "outputs": [
    {
     "data": {
      "text/plain": [
       "np.int64(150)"
      ]
     },
     "metadata": {},
     "output_type": "display_data"
    }
   ],
   "source": [
    "# Check how many items in the purchased_notviewed_notadded list are in the rec_items list\n",
    "np.isin(purchased_notviewed_notadded, rec_items).sum()"
   ]
  },
  {
   "cell_type": "code",
   "execution_count": null,
   "id": "21eac5e6",
   "metadata": {},
   "outputs": [],
   "source": [
    "# Remove the items that were purchased but not viewed or added to cart from the rec_items list\n",
    "rec_items = [itm for itm in rec_items if itm not in purchased_notviewed_notadded]"
   ]
  },
  {
   "cell_type": "code",
   "execution_count": null,
   "id": "133a0eee",
   "metadata": {},
   "outputs": [
    {
     "data": {
      "text/plain": [
       "5426"
      ]
     },
     "metadata": {},
     "output_type": "display_data"
    }
   ],
   "source": [
    "len(rec_items)"
   ]
  },
  {
   "cell_type": "markdown",
   "id": "e784fbb3",
   "metadata": {},
   "source": [
    "### Properties"
   ]
  },
  {
   "cell_type": "code",
   "execution_count": null,
   "id": "d22a3a99",
   "metadata": {},
   "outputs": [
    {
     "data": {
      "text/html": [
       "<div>\n",
       "<style scoped>\n",
       "    .dataframe tbody tr th:only-of-type {\n",
       "        vertical-align: middle;\n",
       "    }\n",
       "\n",
       "    .dataframe tbody tr th {\n",
       "        vertical-align: top;\n",
       "    }\n",
       "\n",
       "    .dataframe thead th {\n",
       "        text-align: right;\n",
       "    }\n",
       "</style>\n",
       "<table border=\"1\" class=\"dataframe\">\n",
       "  <thead>\n",
       "    <tr style=\"text-align: right;\">\n",
       "      <th></th>\n",
       "      <th>timestamp</th>\n",
       "      <th>itemid</th>\n",
       "      <th>property</th>\n",
       "      <th>value</th>\n",
       "    </tr>\n",
       "  </thead>\n",
       "  <tbody>\n",
       "    <tr>\n",
       "      <th>0</th>\n",
       "      <td>1435460400000</td>\n",
       "      <td>460429</td>\n",
       "      <td>categoryid</td>\n",
       "      <td>1338</td>\n",
       "    </tr>\n",
       "    <tr>\n",
       "      <th>1</th>\n",
       "      <td>1441508400000</td>\n",
       "      <td>206783</td>\n",
       "      <td>888</td>\n",
       "      <td>1116713 960601 n277.200</td>\n",
       "    </tr>\n",
       "    <tr>\n",
       "      <th>2</th>\n",
       "      <td>1439089200000</td>\n",
       "      <td>395014</td>\n",
       "      <td>400</td>\n",
       "      <td>n552.000 639502 n720.000 424566</td>\n",
       "    </tr>\n",
       "    <tr>\n",
       "      <th>3</th>\n",
       "      <td>1431226800000</td>\n",
       "      <td>59481</td>\n",
       "      <td>790</td>\n",
       "      <td>n15360.000</td>\n",
       "    </tr>\n",
       "    <tr>\n",
       "      <th>4</th>\n",
       "      <td>1431831600000</td>\n",
       "      <td>156781</td>\n",
       "      <td>917</td>\n",
       "      <td>828513</td>\n",
       "    </tr>\n",
       "    <tr>\n",
       "      <th>...</th>\n",
       "      <td>...</td>\n",
       "      <td>...</td>\n",
       "      <td>...</td>\n",
       "      <td>...</td>\n",
       "    </tr>\n",
       "    <tr>\n",
       "      <th>20275897</th>\n",
       "      <td>1433646000000</td>\n",
       "      <td>236931</td>\n",
       "      <td>929</td>\n",
       "      <td>n12.000</td>\n",
       "    </tr>\n",
       "    <tr>\n",
       "      <th>20275898</th>\n",
       "      <td>1440903600000</td>\n",
       "      <td>455746</td>\n",
       "      <td>6</td>\n",
       "      <td>150169 639134</td>\n",
       "    </tr>\n",
       "    <tr>\n",
       "      <th>20275899</th>\n",
       "      <td>1439694000000</td>\n",
       "      <td>347565</td>\n",
       "      <td>686</td>\n",
       "      <td>610834</td>\n",
       "    </tr>\n",
       "    <tr>\n",
       "      <th>20275900</th>\n",
       "      <td>1433646000000</td>\n",
       "      <td>287231</td>\n",
       "      <td>867</td>\n",
       "      <td>769062</td>\n",
       "    </tr>\n",
       "    <tr>\n",
       "      <th>20275901</th>\n",
       "      <td>1442113200000</td>\n",
       "      <td>275768</td>\n",
       "      <td>888</td>\n",
       "      <td>888666 n10800.000 746840 1318567</td>\n",
       "    </tr>\n",
       "  </tbody>\n",
       "</table>\n",
       "<p>20275902 rows × 4 columns</p>\n",
       "</div>"
      ],
      "text/plain": [
       "              timestamp  itemid    property                             value\n",
       "0         1435460400000  460429  categoryid                              1338\n",
       "1         1441508400000  206783         888           1116713 960601 n277.200\n",
       "2         1439089200000  395014         400   n552.000 639502 n720.000 424566\n",
       "3         1431226800000   59481         790                        n15360.000\n",
       "4         1431831600000  156781         917                            828513\n",
       "...                 ...     ...         ...                               ...\n",
       "20275897  1433646000000  236931         929                           n12.000\n",
       "20275898  1440903600000  455746           6                     150169 639134\n",
       "20275899  1439694000000  347565         686                            610834\n",
       "20275900  1433646000000  287231         867                            769062\n",
       "20275901  1442113200000  275768         888  888666 n10800.000 746840 1318567\n",
       "\n",
       "[20275902 rows x 4 columns]"
      ]
     },
     "metadata": {},
     "output_type": "display_data"
    }
   ],
   "source": [
    "properties"
   ]
  },
  {
   "cell_type": "code",
   "execution_count": null,
   "id": "061ea954",
   "metadata": {},
   "outputs": [
    {
     "data": {
      "text/plain": [
       "417053"
      ]
     },
     "metadata": {},
     "output_type": "display_data"
    }
   ],
   "source": [
    "properties['itemid'].unique().shape[0]"
   ]
  },
  {
   "cell_type": "code",
   "execution_count": null,
   "id": "68f6fa29",
   "metadata": {},
   "outputs": [
    {
     "data": {
      "text/plain": [
       "417053"
      ]
     },
     "metadata": {},
     "output_type": "display_data"
    }
   ],
   "source": [
    "properties[properties['property'] == 'categoryid']['itemid'].unique().shape[0]"
   ]
  },
  {
   "cell_type": "code",
   "execution_count": null,
   "id": "dfb6f2ca",
   "metadata": {},
   "outputs": [],
   "source": [
    "# Filter the properties DataFrame to only include items in the rec_items list\n",
    "# properties = properties[properties['itemid'].isin(rec_items)]"
   ]
  },
  {
   "cell_type": "code",
   "execution_count": null,
   "id": "f1a8b49b",
   "metadata": {},
   "outputs": [
    {
     "data": {
      "text/plain": [
       "417053"
      ]
     },
     "metadata": {},
     "output_type": "display_data"
    }
   ],
   "source": [
    "# Check the number of items in the properties DataFrame\n",
    "properties['itemid'].unique().shape[0]"
   ]
  },
  {
   "cell_type": "code",
   "execution_count": null,
   "id": "bc536da2",
   "metadata": {},
   "outputs": [],
   "source": [
    "properties = properties[properties['itemid'].isin(events['itemid'].unique())]"
   ]
  },
  {
   "cell_type": "code",
   "execution_count": null,
   "id": "fe52196c",
   "metadata": {},
   "outputs": [
    {
     "data": {
      "text/plain": [
       "72386"
      ]
     },
     "metadata": {},
     "output_type": "display_data"
    }
   ],
   "source": [
    "properties['itemid'].unique().shape[0]"
   ]
  },
  {
   "cell_type": "code",
   "execution_count": null,
   "id": "867902fb",
   "metadata": {},
   "outputs": [
    {
     "name": "stderr",
     "output_type": "stream",
     "text": [
      "C:\\Users\\fldam\\AppData\\Local\\Temp\\ipykernel_12384\\12958538.py:2: SettingWithCopyWarning: \n",
      "A value is trying to be set on a copy of a slice from a DataFrame.\n",
      "Try using .loc[row_indexer,col_indexer] = value instead\n",
      "\n",
      "See the caveats in the documentation: https://pandas.pydata.org/pandas-docs/stable/user_guide/indexing.html#returning-a-view-versus-a-copy\n",
      "  properties['timestamp'] = pd.to_datetime(properties['timestamp'], unit='ms', origin='unix')\n"
     ]
    }
   ],
   "source": [
    "# Convert 'timestamp' to datetime format\n",
    "properties['timestamp'] = pd.to_datetime(properties['timestamp'], unit='ms', origin='unix')\n",
    "\n",
    "# Filter properties so that for each itemid, only property rows with timestamp <= latest event timestamp for that itemid are kept\n",
    "\n",
    "# Get the latest event timestamp for each itemid\n",
    "#latest_event_ts = events.groupby('itemid')['timestamp'].max()\n",
    "\n",
    "# Map the latest event timestamp to the properties DataFrame\n",
    "#properties['latest_event_ts'] = properties['itemid'].map(latest_event_ts)\n",
    "\n",
    "# Keep only property rows where the property timestamp is less than or equal to the latest event timestamp for that itemid\n",
    "#properties = properties[properties['timestamp'] <= properties['latest_event_ts']].drop(columns='latest_event_ts')\n",
    "\n",
    "# Filter properties so that for each itemid, only property rows with maximum timestamp before the earliest event timestamp for that itemid are kept\n",
    "\n",
    "# Get the earliest event timestamp for each itemid\n",
    "#earliest_event_ts = events.groupby('itemid')['timestamp'].min()\n",
    "\n",
    "# Map the earliest event timestamp to the properties DataFrame\n",
    "#properties['earliest_event_ts'] = properties['itemid'].map(earliest_event_ts)\n",
    "\n",
    "# Keep only property rows where the property timestamp is the maximum before the earliest event or equal to the earliest event timestamp for that itemid\n",
    "#properties = properties[(properties['timestamp'] < properties['earliest_event_ts']) | \n",
    "#                         (properties['timestamp'] == properties['earliest_event_ts'])]\\\n",
    "#                            .drop(columns='earliest_event_ts')"
   ]
  },
  {
   "cell_type": "code",
   "execution_count": null,
   "id": "46d545a1",
   "metadata": {},
   "outputs": [
    {
     "data": {
      "text/html": [
       "<div>\n",
       "<style scoped>\n",
       "    .dataframe tbody tr th:only-of-type {\n",
       "        vertical-align: middle;\n",
       "    }\n",
       "\n",
       "    .dataframe tbody tr th {\n",
       "        vertical-align: top;\n",
       "    }\n",
       "\n",
       "    .dataframe thead th {\n",
       "        text-align: right;\n",
       "    }\n",
       "</style>\n",
       "<table border=\"1\" class=\"dataframe\">\n",
       "  <thead>\n",
       "    <tr style=\"text-align: right;\">\n",
       "      <th></th>\n",
       "      <th>timestamp</th>\n",
       "      <th>itemid</th>\n",
       "      <th>property</th>\n",
       "      <th>value</th>\n",
       "    </tr>\n",
       "  </thead>\n",
       "  <tbody>\n",
       "    <tr>\n",
       "      <th>562977</th>\n",
       "      <td>2015-05-10 03:00:00</td>\n",
       "      <td>6</td>\n",
       "      <td>categoryid</td>\n",
       "      <td>1091</td>\n",
       "    </tr>\n",
       "    <tr>\n",
       "      <th>4412612</th>\n",
       "      <td>2015-05-10 03:00:00</td>\n",
       "      <td>6</td>\n",
       "      <td>888</td>\n",
       "      <td>609354</td>\n",
       "    </tr>\n",
       "    <tr>\n",
       "      <th>5900583</th>\n",
       "      <td>2015-05-10 03:00:00</td>\n",
       "      <td>6</td>\n",
       "      <td>764</td>\n",
       "      <td>1285872</td>\n",
       "    </tr>\n",
       "    <tr>\n",
       "      <th>6624891</th>\n",
       "      <td>2015-05-10 03:00:00</td>\n",
       "      <td>6</td>\n",
       "      <td>available</td>\n",
       "      <td>1</td>\n",
       "    </tr>\n",
       "    <tr>\n",
       "      <th>12499370</th>\n",
       "      <td>2015-05-10 03:00:00</td>\n",
       "      <td>6</td>\n",
       "      <td>790</td>\n",
       "      <td>n44040.000</td>\n",
       "    </tr>\n",
       "    <tr>\n",
       "      <th>...</th>\n",
       "      <td>...</td>\n",
       "      <td>...</td>\n",
       "      <td>...</td>\n",
       "      <td>...</td>\n",
       "    </tr>\n",
       "    <tr>\n",
       "      <th>13407693</th>\n",
       "      <td>2015-09-06 03:00:00</td>\n",
       "      <td>466864</td>\n",
       "      <td>available</td>\n",
       "      <td>0</td>\n",
       "    </tr>\n",
       "    <tr>\n",
       "      <th>2238896</th>\n",
       "      <td>2015-09-13 03:00:00</td>\n",
       "      <td>466864</td>\n",
       "      <td>790</td>\n",
       "      <td>n111840.000</td>\n",
       "    </tr>\n",
       "    <tr>\n",
       "      <th>5763096</th>\n",
       "      <td>2015-09-13 03:00:00</td>\n",
       "      <td>466864</td>\n",
       "      <td>813</td>\n",
       "      <td>1148082 353870 1262739</td>\n",
       "    </tr>\n",
       "    <tr>\n",
       "      <th>12885429</th>\n",
       "      <td>2015-09-13 03:00:00</td>\n",
       "      <td>466864</td>\n",
       "      <td>888</td>\n",
       "      <td>1262739 205682 1050016 1154859</td>\n",
       "    </tr>\n",
       "    <tr>\n",
       "      <th>14202825</th>\n",
       "      <td>2015-09-13 03:00:00</td>\n",
       "      <td>466864</td>\n",
       "      <td>available</td>\n",
       "      <td>0</td>\n",
       "    </tr>\n",
       "  </tbody>\n",
       "</table>\n",
       "<p>4644282 rows × 4 columns</p>\n",
       "</div>"
      ],
      "text/plain": [
       "                   timestamp  itemid    property  \\\n",
       "562977   2015-05-10 03:00:00       6  categoryid   \n",
       "4412612  2015-05-10 03:00:00       6         888   \n",
       "5900583  2015-05-10 03:00:00       6         764   \n",
       "6624891  2015-05-10 03:00:00       6   available   \n",
       "12499370 2015-05-10 03:00:00       6         790   \n",
       "...                      ...     ...         ...   \n",
       "13407693 2015-09-06 03:00:00  466864   available   \n",
       "2238896  2015-09-13 03:00:00  466864         790   \n",
       "5763096  2015-09-13 03:00:00  466864         813   \n",
       "12885429 2015-09-13 03:00:00  466864         888   \n",
       "14202825 2015-09-13 03:00:00  466864   available   \n",
       "\n",
       "                                   value  \n",
       "562977                              1091  \n",
       "4412612                           609354  \n",
       "5900583                          1285872  \n",
       "6624891                                1  \n",
       "12499370                      n44040.000  \n",
       "...                                  ...  \n",
       "13407693                               0  \n",
       "2238896                      n111840.000  \n",
       "5763096           1148082 353870 1262739  \n",
       "12885429  1262739 205682 1050016 1154859  \n",
       "14202825                               0  \n",
       "\n",
       "[4644282 rows x 4 columns]"
      ]
     },
     "metadata": {},
     "output_type": "display_data"
    }
   ],
   "source": [
    "properties.sort_values(by=['itemid', 'timestamp'])"
   ]
  },
  {
   "cell_type": "code",
   "execution_count": null,
   "id": "c38d01a9",
   "metadata": {},
   "outputs": [
    {
     "name": "stderr",
     "output_type": "stream",
     "text": [
      "C:\\Users\\fldam\\AppData\\Local\\Temp\\ipykernel_12384\\2059359439.py:26: SettingWithCopyWarning: \n",
      "A value is trying to be set on a copy of a slice from a DataFrame.\n",
      "Try using .loc[row_indexer,col_indexer] = value instead\n",
      "\n",
      "See the caveats in the documentation: https://pandas.pydata.org/pandas-docs/stable/user_guide/indexing.html#returning-a-view-versus-a-copy\n",
      "  properties['cat_props'] = cat_props_list\n",
      "C:\\Users\\fldam\\AppData\\Local\\Temp\\ipykernel_12384\\2059359439.py:27: SettingWithCopyWarning: \n",
      "A value is trying to be set on a copy of a slice from a DataFrame.\n",
      "Try using .loc[row_indexer,col_indexer] = value instead\n",
      "\n",
      "See the caveats in the documentation: https://pandas.pydata.org/pandas-docs/stable/user_guide/indexing.html#returning-a-view-versus-a-copy\n",
      "  properties['num_props'] = num_props_list\n",
      "C:\\Users\\fldam\\AppData\\Local\\Temp\\ipykernel_12384\\2059359439.py:28: SettingWithCopyWarning: \n",
      "A value is trying to be set on a copy of a slice from a DataFrame\n",
      "\n",
      "See the caveats in the documentation: https://pandas.pydata.org/pandas-docs/stable/user_guide/indexing.html#returning-a-view-versus-a-copy\n",
      "  properties.drop(columns='value', inplace=True)\n"
     ]
    }
   ],
   "source": [
    "# Separate values starting with 'n' from the others in props, process as requested\n",
    "props = properties['value'].str.split()\n",
    "\n",
    "cat_props_list = []\n",
    "num_props_list = []\n",
    "\n",
    "for prop_list in props:\n",
    "    cat_props = []\n",
    "    num_props = []\n",
    "    if isinstance(prop_list, list):\n",
    "        for p in prop_list:\n",
    "            if p.startswith('n'):\n",
    "                try:\n",
    "                    num_props.append(float(p[1:]))\n",
    "                except ValueError:\n",
    "                    continue\n",
    "            else:\n",
    "                try:\n",
    "                    cat_props.append(int(p))\n",
    "                except ValueError:\n",
    "                    continue\n",
    "    cat_props_list.append(cat_props)\n",
    "    num_props_list.append(num_props)\n",
    "\n",
    "# Add as new columns to properties DataFrame\n",
    "properties['cat_props'] = cat_props_list\n",
    "properties['num_props'] = num_props_list\n",
    "properties.drop(columns='value', inplace=True)"
   ]
  },
  {
   "cell_type": "code",
   "execution_count": null,
   "id": "4c4fafcf",
   "metadata": {},
   "outputs": [
    {
     "data": {
      "text/html": [
       "<div>\n",
       "<style scoped>\n",
       "    .dataframe tbody tr th:only-of-type {\n",
       "        vertical-align: middle;\n",
       "    }\n",
       "\n",
       "    .dataframe tbody tr th {\n",
       "        vertical-align: top;\n",
       "    }\n",
       "\n",
       "    .dataframe thead th {\n",
       "        text-align: right;\n",
       "    }\n",
       "</style>\n",
       "<table border=\"1\" class=\"dataframe\">\n",
       "  <thead>\n",
       "    <tr style=\"text-align: right;\">\n",
       "      <th></th>\n",
       "      <th>timestamp</th>\n",
       "      <th>itemid</th>\n",
       "      <th>property</th>\n",
       "      <th>cat_props</th>\n",
       "      <th>num_props</th>\n",
       "    </tr>\n",
       "  </thead>\n",
       "  <tbody>\n",
       "    <tr>\n",
       "      <th>1</th>\n",
       "      <td>2015-09-06 03:00:00</td>\n",
       "      <td>206783</td>\n",
       "      <td>888</td>\n",
       "      <td>[1116713, 960601]</td>\n",
       "      <td>[277.2]</td>\n",
       "    </tr>\n",
       "    <tr>\n",
       "      <th>3</th>\n",
       "      <td>2015-05-10 03:00:00</td>\n",
       "      <td>59481</td>\n",
       "      <td>790</td>\n",
       "      <td>[]</td>\n",
       "      <td>[15360.0]</td>\n",
       "    </tr>\n",
       "    <tr>\n",
       "      <th>11</th>\n",
       "      <td>2015-06-28 03:00:00</td>\n",
       "      <td>244127</td>\n",
       "      <td>400</td>\n",
       "      <td>[639502, 424566]</td>\n",
       "      <td>[552.0, 720.0]</td>\n",
       "    </tr>\n",
       "    <tr>\n",
       "      <th>14</th>\n",
       "      <td>2015-06-14 03:00:00</td>\n",
       "      <td>169055</td>\n",
       "      <td>790</td>\n",
       "      <td>[]</td>\n",
       "      <td>[21000.0]</td>\n",
       "    </tr>\n",
       "    <tr>\n",
       "      <th>20</th>\n",
       "      <td>2015-08-16 03:00:00</td>\n",
       "      <td>48696</td>\n",
       "      <td>566</td>\n",
       "      <td>[639502, 189174]</td>\n",
       "      <td>[480.0]</td>\n",
       "    </tr>\n",
       "    <tr>\n",
       "      <th>...</th>\n",
       "      <td>...</td>\n",
       "      <td>...</td>\n",
       "      <td>...</td>\n",
       "      <td>...</td>\n",
       "      <td>...</td>\n",
       "    </tr>\n",
       "    <tr>\n",
       "      <th>20275798</th>\n",
       "      <td>2015-06-07 03:00:00</td>\n",
       "      <td>140861</td>\n",
       "      <td>888</td>\n",
       "      <td>[1133979]</td>\n",
       "      <td>[13308.0]</td>\n",
       "    </tr>\n",
       "    <tr>\n",
       "      <th>20275805</th>\n",
       "      <td>2015-05-31 03:00:00</td>\n",
       "      <td>305760</td>\n",
       "      <td>19</td>\n",
       "      <td>[1297729, 1749, 1178208, 350726]</td>\n",
       "      <td>[72.0, 36.0]</td>\n",
       "    </tr>\n",
       "    <tr>\n",
       "      <th>20275860</th>\n",
       "      <td>2015-07-19 03:00:00</td>\n",
       "      <td>241233</td>\n",
       "      <td>790</td>\n",
       "      <td>[]</td>\n",
       "      <td>[12048.0]</td>\n",
       "    </tr>\n",
       "    <tr>\n",
       "      <th>20275862</th>\n",
       "      <td>2015-08-23 03:00:00</td>\n",
       "      <td>358049</td>\n",
       "      <td>888</td>\n",
       "      <td>[1320974, 56529, 237874, 583354, 1297729, 3507...</td>\n",
       "      <td>[96.0]</td>\n",
       "    </tr>\n",
       "    <tr>\n",
       "      <th>20275890</th>\n",
       "      <td>2015-05-24 03:00:00</td>\n",
       "      <td>206640</td>\n",
       "      <td>790</td>\n",
       "      <td>[]</td>\n",
       "      <td>[9600.0]</td>\n",
       "    </tr>\n",
       "  </tbody>\n",
       "</table>\n",
       "<p>1557350 rows × 5 columns</p>\n",
       "</div>"
      ],
      "text/plain": [
       "                   timestamp  itemid property  \\\n",
       "1        2015-09-06 03:00:00  206783      888   \n",
       "3        2015-05-10 03:00:00   59481      790   \n",
       "11       2015-06-28 03:00:00  244127      400   \n",
       "14       2015-06-14 03:00:00  169055      790   \n",
       "20       2015-08-16 03:00:00   48696      566   \n",
       "...                      ...     ...      ...   \n",
       "20275798 2015-06-07 03:00:00  140861      888   \n",
       "20275805 2015-05-31 03:00:00  305760       19   \n",
       "20275860 2015-07-19 03:00:00  241233      790   \n",
       "20275862 2015-08-23 03:00:00  358049      888   \n",
       "20275890 2015-05-24 03:00:00  206640      790   \n",
       "\n",
       "                                                  cat_props       num_props  \n",
       "1                                         [1116713, 960601]         [277.2]  \n",
       "3                                                        []       [15360.0]  \n",
       "11                                         [639502, 424566]  [552.0, 720.0]  \n",
       "14                                                       []       [21000.0]  \n",
       "20                                         [639502, 189174]         [480.0]  \n",
       "...                                                     ...             ...  \n",
       "20275798                                          [1133979]       [13308.0]  \n",
       "20275805                   [1297729, 1749, 1178208, 350726]    [72.0, 36.0]  \n",
       "20275860                                                 []       [12048.0]  \n",
       "20275862  [1320974, 56529, 237874, 583354, 1297729, 3507...          [96.0]  \n",
       "20275890                                                 []        [9600.0]  \n",
       "\n",
       "[1557350 rows x 5 columns]"
      ]
     },
     "metadata": {},
     "output_type": "display_data"
    }
   ],
   "source": [
    "properties[properties['num_props'].apply(lambda x: len(x) > 0)]"
   ]
  },
  {
   "cell_type": "code",
   "execution_count": null,
   "id": "23f4deb2",
   "metadata": {},
   "outputs": [
    {
     "data": {
      "text/html": [
       "<div>\n",
       "<style scoped>\n",
       "    .dataframe tbody tr th:only-of-type {\n",
       "        vertical-align: middle;\n",
       "    }\n",
       "\n",
       "    .dataframe tbody tr th {\n",
       "        vertical-align: top;\n",
       "    }\n",
       "\n",
       "    .dataframe thead th {\n",
       "        text-align: right;\n",
       "    }\n",
       "</style>\n",
       "<table border=\"1\" class=\"dataframe\">\n",
       "  <thead>\n",
       "    <tr style=\"text-align: right;\">\n",
       "      <th></th>\n",
       "      <th>timestamp</th>\n",
       "      <th>itemid</th>\n",
       "      <th>property</th>\n",
       "      <th>cat_props</th>\n",
       "      <th>num_props</th>\n",
       "    </tr>\n",
       "  </thead>\n",
       "  <tbody>\n",
       "    <tr>\n",
       "      <th>1</th>\n",
       "      <td>2015-09-06 03:00:00</td>\n",
       "      <td>206783</td>\n",
       "      <td>888</td>\n",
       "      <td>[1116713, 960601]</td>\n",
       "      <td>[277.2]</td>\n",
       "    </tr>\n",
       "    <tr>\n",
       "      <th>11</th>\n",
       "      <td>2015-06-28 03:00:00</td>\n",
       "      <td>244127</td>\n",
       "      <td>400</td>\n",
       "      <td>[639502, 424566]</td>\n",
       "      <td>[552.0, 720.0]</td>\n",
       "    </tr>\n",
       "    <tr>\n",
       "      <th>19</th>\n",
       "      <td>2015-06-28 03:00:00</td>\n",
       "      <td>363598</td>\n",
       "      <td>1022</td>\n",
       "      <td>[857891, 593337]</td>\n",
       "      <td>[]</td>\n",
       "    </tr>\n",
       "    <tr>\n",
       "      <th>20</th>\n",
       "      <td>2015-08-16 03:00:00</td>\n",
       "      <td>48696</td>\n",
       "      <td>566</td>\n",
       "      <td>[639502, 189174]</td>\n",
       "      <td>[480.0]</td>\n",
       "    </tr>\n",
       "    <tr>\n",
       "      <th>22</th>\n",
       "      <td>2015-06-14 03:00:00</td>\n",
       "      <td>269797</td>\n",
       "      <td>159</td>\n",
       "      <td>[519769]</td>\n",
       "      <td>[]</td>\n",
       "    </tr>\n",
       "    <tr>\n",
       "      <th>...</th>\n",
       "      <td>...</td>\n",
       "      <td>...</td>\n",
       "      <td>...</td>\n",
       "      <td>...</td>\n",
       "      <td>...</td>\n",
       "    </tr>\n",
       "    <tr>\n",
       "      <th>20275875</th>\n",
       "      <td>2015-08-16 03:00:00</td>\n",
       "      <td>4849</td>\n",
       "      <td>888</td>\n",
       "      <td>[297765, 406279, 907471, 88645, 279913, 122335...</td>\n",
       "      <td>[]</td>\n",
       "    </tr>\n",
       "    <tr>\n",
       "      <th>20275877</th>\n",
       "      <td>2015-06-07 03:00:00</td>\n",
       "      <td>279551</td>\n",
       "      <td>348</td>\n",
       "      <td>[530843]</td>\n",
       "      <td>[]</td>\n",
       "    </tr>\n",
       "    <tr>\n",
       "      <th>20275882</th>\n",
       "      <td>2015-06-28 03:00:00</td>\n",
       "      <td>10107</td>\n",
       "      <td>505</td>\n",
       "      <td>[769062]</td>\n",
       "      <td>[]</td>\n",
       "    </tr>\n",
       "    <tr>\n",
       "      <th>20275891</th>\n",
       "      <td>2015-08-09 03:00:00</td>\n",
       "      <td>200211</td>\n",
       "      <td>available</td>\n",
       "      <td>[0]</td>\n",
       "      <td>[]</td>\n",
       "    </tr>\n",
       "    <tr>\n",
       "      <th>20275900</th>\n",
       "      <td>2015-06-07 03:00:00</td>\n",
       "      <td>287231</td>\n",
       "      <td>867</td>\n",
       "      <td>[769062]</td>\n",
       "      <td>[]</td>\n",
       "    </tr>\n",
       "  </tbody>\n",
       "</table>\n",
       "<p>3725591 rows × 5 columns</p>\n",
       "</div>"
      ],
      "text/plain": [
       "                   timestamp  itemid   property  \\\n",
       "1        2015-09-06 03:00:00  206783        888   \n",
       "11       2015-06-28 03:00:00  244127        400   \n",
       "19       2015-06-28 03:00:00  363598       1022   \n",
       "20       2015-08-16 03:00:00   48696        566   \n",
       "22       2015-06-14 03:00:00  269797        159   \n",
       "...                      ...     ...        ...   \n",
       "20275875 2015-08-16 03:00:00    4849        888   \n",
       "20275877 2015-06-07 03:00:00  279551        348   \n",
       "20275882 2015-06-28 03:00:00   10107        505   \n",
       "20275891 2015-08-09 03:00:00  200211  available   \n",
       "20275900 2015-06-07 03:00:00  287231        867   \n",
       "\n",
       "                                                  cat_props       num_props  \n",
       "1                                         [1116713, 960601]         [277.2]  \n",
       "11                                         [639502, 424566]  [552.0, 720.0]  \n",
       "19                                         [857891, 593337]              []  \n",
       "20                                         [639502, 189174]         [480.0]  \n",
       "22                                                 [519769]              []  \n",
       "...                                                     ...             ...  \n",
       "20275875  [297765, 406279, 907471, 88645, 279913, 122335...              []  \n",
       "20275877                                           [530843]              []  \n",
       "20275882                                           [769062]              []  \n",
       "20275891                                                [0]              []  \n",
       "20275900                                           [769062]              []  \n",
       "\n",
       "[3725591 rows x 5 columns]"
      ]
     },
     "metadata": {},
     "output_type": "display_data"
    }
   ],
   "source": [
    "properties[properties['cat_props'].apply(lambda x: len(x) > 0)]"
   ]
  },
  {
   "cell_type": "code",
   "execution_count": null,
   "id": "0efaabdf",
   "metadata": {},
   "outputs": [],
   "source": [
    "properties_grouped = properties[~properties['property'].isin(['available', 'categoryid'])].groupby(['timestamp', 'itemid']).agg({\n",
    "    'property': list\n",
    "}).reset_index()"
   ]
  },
  {
   "cell_type": "code",
   "execution_count": null,
   "id": "bc4aac39",
   "metadata": {},
   "outputs": [
    {
     "data": {
      "text/plain": [
       "array([     6,     15,     16, ..., 462265, 463360, 465950],\n",
       "      shape=(72386,))"
      ]
     },
     "metadata": {},
     "output_type": "display_data"
    }
   ],
   "source": [
    "properties_grouped.itemid.unique()"
   ]
  },
  {
   "cell_type": "markdown",
   "id": "8246579d",
   "metadata": {},
   "source": [
    "#### Pre-processing properties"
   ]
  },
  {
   "cell_type": "code",
   "execution_count": null,
   "id": "261d9867",
   "metadata": {},
   "outputs": [
    {
     "ename": "KeyboardInterrupt",
     "evalue": "",
     "output_type": "error",
     "traceback": [
      "\u001b[31m---------------------------------------------------------------------------\u001b[39m\n",
      "\u001b[31mKeyboardInterrupt\u001b[39m                         Traceback (most recent call last)\n",
      "\u001b[32m~\\AppData\\Local\\Temp\\ipykernel_12384\\3648920498.py\u001b[39m in \u001b[36m?\u001b[39m\u001b[34m()\u001b[39m\n",
      "\u001b[32m      5\u001b[39m         \u001b[38;5;28;01mfor\u001b[39;00m prop, cat, num \u001b[38;5;28;01min\u001b[39;00m zip(row[\u001b[33m'property'\u001b[39m], row[\u001b[33m'cat_props'\u001b[39m], row[\u001b[33m'num_props'\u001b[39m])\n",
      "\u001b[32m      6\u001b[39m     }\n",
      "\u001b[32m      7\u001b[39m \n",
      "\u001b[32m      8\u001b[39m \u001b[38;5;66;03m# First, group and aggregate lists for each column\u001b[39;00m\n",
      "\u001b[32m----> \u001b[39m\u001b[32m9\u001b[39m properties_grouped = properties[~properties['property'].isin(['available', 'categoryid'])].groupby(['timestamp', 'itemid']).agg({\n",
      "\u001b[32m     10\u001b[39m     \u001b[33m'property'\u001b[39m: list,\n",
      "\u001b[32m     11\u001b[39m     \u001b[33m'cat_props'\u001b[39m: list,\n",
      "\u001b[32m     12\u001b[39m     \u001b[33m'num_props'\u001b[39m: list\n",
      "\n",
      "\u001b[32mc:\\Users\\fldam\\OneDrive\\MBA\\TCC\\Code\\.venv\\Lib\\site-packages\\pandas\\core\\groupby\\generic.py\u001b[39m in \u001b[36m?\u001b[39m\u001b[34m(self, func, engine, engine_kwargs, *args, **kwargs)\u001b[39m\n",
      "\u001b[32m   1428\u001b[39m             kwargs[\u001b[33m\"engine\"\u001b[39m] = engine\n",
      "\u001b[32m   1429\u001b[39m             kwargs[\u001b[33m\"engine_kwargs\"\u001b[39m] = engine_kwargs\n",
      "\u001b[32m   1430\u001b[39m \n",
      "\u001b[32m   1431\u001b[39m         op = GroupByApply(self, func, args=args, kwargs=kwargs)\n",
      "\u001b[32m-> \u001b[39m\u001b[32m1432\u001b[39m         result = op.agg()\n",
      "\u001b[32m   1433\u001b[39m         \u001b[38;5;28;01mif\u001b[39;00m \u001b[38;5;28;01mnot\u001b[39;00m is_dict_like(func) \u001b[38;5;28;01mand\u001b[39;00m result \u001b[38;5;28;01mis\u001b[39;00m \u001b[38;5;28;01mnot\u001b[39;00m \u001b[38;5;28;01mNone\u001b[39;00m:\n",
      "\u001b[32m   1434\u001b[39m             \u001b[38;5;66;03m# GH #52849\u001b[39;00m\n",
      "\u001b[32m   1435\u001b[39m             \u001b[38;5;28;01mif\u001b[39;00m \u001b[38;5;28;01mnot\u001b[39;00m self.as_index \u001b[38;5;28;01mand\u001b[39;00m is_list_like(func):\n",
      "\n",
      "\u001b[32mc:\\Users\\fldam\\OneDrive\\MBA\\TCC\\Code\\.venv\\Lib\\site-packages\\pandas\\core\\apply.py\u001b[39m in \u001b[36m?\u001b[39m\u001b[34m(self)\u001b[39m\n",
      "\u001b[32m    186\u001b[39m         \u001b[38;5;28;01mif\u001b[39;00m isinstance(func, str):\n",
      "\u001b[32m    187\u001b[39m             \u001b[38;5;28;01mreturn\u001b[39;00m self.apply_str()\n",
      "\u001b[32m    188\u001b[39m \n",
      "\u001b[32m    189\u001b[39m         \u001b[38;5;28;01mif\u001b[39;00m is_dict_like(func):\n",
      "\u001b[32m--> \u001b[39m\u001b[32m190\u001b[39m             \u001b[38;5;28;01mreturn\u001b[39;00m self.agg_dict_like()\n",
      "\u001b[32m    191\u001b[39m         \u001b[38;5;28;01melif\u001b[39;00m is_list_like(func):\n",
      "\u001b[32m    192\u001b[39m             \u001b[38;5;66;03m# we require a list, but not a 'str'\u001b[39;00m\n",
      "\u001b[32m    193\u001b[39m             \u001b[38;5;28;01mreturn\u001b[39;00m self.agg_list_like()\n",
      "\n",
      "\u001b[32mc:\\Users\\fldam\\OneDrive\\MBA\\TCC\\Code\\.venv\\Lib\\site-packages\\pandas\\core\\apply.py\u001b[39m in \u001b[36m?\u001b[39m\u001b[34m(self)\u001b[39m\n",
      "\u001b[32m    419\u001b[39m         Returns\n",
      "\u001b[32m    420\u001b[39m         -------\n",
      "\u001b[32m    421\u001b[39m         Result of aggregation.\n",
      "\u001b[32m    422\u001b[39m         \"\"\"\n",
      "\u001b[32m--> \u001b[39m\u001b[32m423\u001b[39m         \u001b[38;5;28;01mreturn\u001b[39;00m self.agg_or_apply_dict_like(op_name=\u001b[33m\"agg\"\u001b[39m)\n",
      "\n",
      "\u001b[32mc:\\Users\\fldam\\OneDrive\\MBA\\TCC\\Code\\.venv\\Lib\\site-packages\\pandas\\core\\apply.py\u001b[39m in \u001b[36m?\u001b[39m\u001b[34m(self, op_name)\u001b[39m\n",
      "\u001b[32m   1599\u001b[39m \n",
      "\u001b[32m   1600\u001b[39m         with com.temp_setattr(\n",
      "\u001b[32m   1601\u001b[39m             obj, \u001b[33m\"as_index\"\u001b[39m, \u001b[38;5;28;01mTrue\u001b[39;00m, condition=hasattr(obj, \u001b[33m\"as_index\"\u001b[39m)\n",
      "\u001b[32m   1602\u001b[39m         ):\n",
      "\u001b[32m-> \u001b[39m\u001b[32m1603\u001b[39m             result_index, result_data = self.compute_dict_like(\n",
      "\u001b[32m   1604\u001b[39m                 op_name, selected_obj, selection, kwargs\n",
      "\u001b[32m   1605\u001b[39m             )\n",
      "\u001b[32m   1606\u001b[39m         result = self.wrap_results_dict_like(selected_obj, result_index, result_data)\n",
      "\n",
      "\u001b[32mc:\\Users\\fldam\\OneDrive\\MBA\\TCC\\Code\\.venv\\Lib\\site-packages\\pandas\\core\\apply.py\u001b[39m in \u001b[36m?\u001b[39m\u001b[34m(self, op_name, selected_obj, selection, kwargs)\u001b[39m\n",
      "\u001b[32m    492\u001b[39m                 keys += [key] * len(key_data)\n",
      "\u001b[32m    493\u001b[39m                 results += key_data\n",
      "\u001b[32m    494\u001b[39m         \u001b[38;5;28;01melse\u001b[39;00m:\n",
      "\u001b[32m    495\u001b[39m             \u001b[38;5;66;03m# key used for column selection and output\u001b[39;00m\n",
      "\u001b[32m--> \u001b[39m\u001b[32m496\u001b[39m             results = [\n",
      "\u001b[32m    497\u001b[39m                 getattr(obj._gotitem(key, ndim=\u001b[32m1\u001b[39m), op_name)(how, **kwargs)\n",
      "\u001b[32m    498\u001b[39m                 \u001b[38;5;28;01mfor\u001b[39;00m key, how \u001b[38;5;28;01min\u001b[39;00m func.items()\n",
      "\u001b[32m    499\u001b[39m             ]\n",
      "\n",
      "\u001b[32mc:\\Users\\fldam\\OneDrive\\MBA\\TCC\\Code\\.venv\\Lib\\site-packages\\pandas\\core\\apply.py\u001b[39m in \u001b[36m?\u001b[39m\u001b[34m(.0)\u001b[39m\n",
      "\u001b[32m    496\u001b[39m     def compute_dict_like(\n",
      "\u001b[32m--> \u001b[39m\u001b[32m497\u001b[39m         self,\n",
      "\u001b[32m    498\u001b[39m         op_name: Literal[\u001b[33m\"agg\"\u001b[39m, \u001b[33m\"apply\"\u001b[39m],\n",
      "\u001b[32m    499\u001b[39m         selected_obj: Series | DataFrame,\n",
      "\u001b[32m    500\u001b[39m         selection: Hashable | Sequence[Hashable],\n",
      "\n",
      "\u001b[32mc:\\Users\\fldam\\OneDrive\\MBA\\TCC\\Code\\.venv\\Lib\\site-packages\\pandas\\core\\groupby\\generic.py\u001b[39m in \u001b[36m?\u001b[39m\u001b[34m(self, func, engine, engine_kwargs, *args, **kwargs)\u001b[39m\n",
      "\u001b[32m    287\u001b[39m                     dtype=obj.dtype,\n",
      "\u001b[32m    288\u001b[39m                 )\n",
      "\u001b[32m    289\u001b[39m \n",
      "\u001b[32m    290\u001b[39m             \u001b[38;5;28;01mif\u001b[39;00m self._grouper.nkeys > \u001b[32m1\u001b[39m:\n",
      "\u001b[32m--> \u001b[39m\u001b[32m291\u001b[39m                 \u001b[38;5;28;01mreturn\u001b[39;00m self._python_agg_general(func, *args, **kwargs)\n",
      "\u001b[32m    292\u001b[39m \n",
      "\u001b[32m    293\u001b[39m             \u001b[38;5;28;01mtry\u001b[39;00m:\n",
      "\u001b[32m    294\u001b[39m                 \u001b[38;5;28;01mreturn\u001b[39;00m self._python_agg_general(func, *args, **kwargs)\n",
      "\n",
      "\u001b[32mc:\\Users\\fldam\\OneDrive\\MBA\\TCC\\Code\\.venv\\Lib\\site-packages\\pandas\\core\\groupby\\generic.py\u001b[39m in \u001b[36m?\u001b[39m\u001b[34m(self, func, *args, **kwargs)\u001b[39m\n",
      "\u001b[32m    323\u001b[39m             warn_alias_replacement(self, orig_func, alias)\n",
      "\u001b[32m    324\u001b[39m         f = \u001b[38;5;28;01mlambda\u001b[39;00m x: func(x, *args, **kwargs)\n",
      "\u001b[32m    325\u001b[39m \n",
      "\u001b[32m    326\u001b[39m         obj = self._obj_with_exclusions\n",
      "\u001b[32m--> \u001b[39m\u001b[32m327\u001b[39m         result = self._grouper.agg_series(obj, f)\n",
      "\u001b[32m    328\u001b[39m         res = obj._constructor(result, name=obj.name)\n",
      "\u001b[32m    329\u001b[39m         \u001b[38;5;28;01mreturn\u001b[39;00m self._wrap_aggregated_output(res)\n",
      "\n",
      "\u001b[32mc:\\Users\\fldam\\OneDrive\\MBA\\TCC\\Code\\.venv\\Lib\\site-packages\\pandas\\core\\groupby\\ops.py\u001b[39m in \u001b[36m?\u001b[39m\u001b[34m(self, obj, func, preserve_dtype)\u001b[39m\n",
      "\u001b[32m    860\u001b[39m             \u001b[38;5;66;03m#  with _from_sequence.  NB we are assuming here that _from_sequence\u001b[39;00m\n",
      "\u001b[32m    861\u001b[39m             \u001b[38;5;66;03m#  is sufficiently strict that it casts appropriately.\u001b[39;00m\n",
      "\u001b[32m    862\u001b[39m             preserve_dtype = \u001b[38;5;28;01mTrue\u001b[39;00m\n",
      "\u001b[32m    863\u001b[39m \n",
      "\u001b[32m--> \u001b[39m\u001b[32m864\u001b[39m         result = self._aggregate_series_pure_python(obj, func)\n",
      "\u001b[32m    865\u001b[39m \n",
      "\u001b[32m    866\u001b[39m         npvalues = lib.maybe_convert_objects(result, try_float=\u001b[38;5;28;01mFalse\u001b[39;00m)\n",
      "\u001b[32m    867\u001b[39m         \u001b[38;5;28;01mif\u001b[39;00m preserve_dtype:\n",
      "\n",
      "\u001b[32mc:\\Users\\fldam\\OneDrive\\MBA\\TCC\\Code\\.venv\\Lib\\site-packages\\pandas\\core\\groupby\\ops.py\u001b[39m in \u001b[36m?\u001b[39m\u001b[34m(self, obj, func)\u001b[39m\n",
      "\u001b[32m    880\u001b[39m         initialized = \u001b[38;5;28;01mFalse\u001b[39;00m\n",
      "\u001b[32m    881\u001b[39m \n",
      "\u001b[32m    882\u001b[39m         splitter = self._get_splitter(obj, axis=\u001b[32m0\u001b[39m)\n",
      "\u001b[32m    883\u001b[39m \n",
      "\u001b[32m--> \u001b[39m\u001b[32m884\u001b[39m         \u001b[38;5;28;01mfor\u001b[39;00m i, group \u001b[38;5;28;01min\u001b[39;00m enumerate(splitter):\n",
      "\u001b[32m    885\u001b[39m             res = func(group)\n",
      "\u001b[32m    886\u001b[39m             res = extract_result(res)\n",
      "\u001b[32m    887\u001b[39m \n",
      "\n",
      "\u001b[32mc:\\Users\\fldam\\OneDrive\\MBA\\TCC\\Code\\.venv\\Lib\\site-packages\\pandas\\core\\groupby\\ops.py\u001b[39m in \u001b[36m?\u001b[39m\u001b[34m(self)\u001b[39m\n",
      "\u001b[32m   1156\u001b[39m \n",
      "\u001b[32m   1157\u001b[39m         starts, ends = lib.generate_slices(self._slabels, self.ngroups)\n",
      "\u001b[32m   1158\u001b[39m \n",
      "\u001b[32m   1159\u001b[39m         \u001b[38;5;28;01mfor\u001b[39;00m start, end \u001b[38;5;28;01min\u001b[39;00m zip(starts, ends):\n",
      "\u001b[32m-> \u001b[39m\u001b[32m1160\u001b[39m             \u001b[38;5;28;01myield\u001b[39;00m self._chop(sdata, slice(start, end))\n",
      "\n",
      "\u001b[32mc:\\Users\\fldam\\OneDrive\\MBA\\TCC\\Code\\.venv\\Lib\\site-packages\\pandas\\core\\groupby\\ops.py\u001b[39m in \u001b[36m?\u001b[39m\u001b[34m(self, sdata, slice_obj)\u001b[39m\n",
      "\u001b[32m   1172\u001b[39m         \u001b[38;5;66;03m# fastpath equivalent to `sdata.iloc[slice_obj]`\u001b[39;00m\n",
      "\u001b[32m   1173\u001b[39m         mgr = sdata._mgr.get_slice(slice_obj)\n",
      "\u001b[32m   1174\u001b[39m         ser = sdata._constructor_from_mgr(mgr, axes=mgr.axes)\n",
      "\u001b[32m   1175\u001b[39m         ser._name = sdata.name\n",
      "\u001b[32m-> \u001b[39m\u001b[32m1176\u001b[39m         \u001b[38;5;28;01mreturn\u001b[39;00m ser.__finalize__(sdata, method=\u001b[33m\"groupby\"\u001b[39m)\n",
      "\n",
      "\u001b[32mc:\\Users\\fldam\\OneDrive\\MBA\\TCC\\Code\\.venv\\Lib\\site-packages\\pandas\\core\\generic.py\u001b[39m in \u001b[36m?\u001b[39m\u001b[34m(self, other, method, **kwargs)\u001b[39m\n",
      "\u001b[32m   6279\u001b[39m                 self.attrs = deepcopy(other.attrs)\n",
      "\u001b[32m   6280\u001b[39m \n",
      "\u001b[32m   6281\u001b[39m             self.flags.allows_duplicate_labels = other.flags.allows_duplicate_labels\n",
      "\u001b[32m   6282\u001b[39m             \u001b[38;5;66;03m# For subclasses using _metadata.\u001b[39;00m\n",
      "\u001b[32m-> \u001b[39m\u001b[32m6283\u001b[39m             \u001b[38;5;28;01mfor\u001b[39;00m name \u001b[38;5;28;01min\u001b[39;00m set(self._metadata) & set(other._metadata):\n",
      "\u001b[32m   6284\u001b[39m                 \u001b[38;5;28;01massert\u001b[39;00m isinstance(name, str)\n",
      "\u001b[32m   6285\u001b[39m                 object.__setattr__(self, name, getattr(other, name, \u001b[38;5;28;01mNone\u001b[39;00m))\n",
      "\u001b[32m   6286\u001b[39m \n",
      "\n",
      "\u001b[31mKeyboardInterrupt\u001b[39m: "
     ]
    }
   ],
   "source": [
    "# Group properties by 'timestamp' and 'itemid', and create a dictionary mapping each property to its cat_props and num_props\n",
    "def property_dict(row):\n",
    "    return {\n",
    "        prop: {'cat_props': cat, 'num_props': num}\n",
    "        for prop, cat, num in zip(row['property'], row['cat_props'], row['num_props'])\n",
    "    }\n",
    "\n",
    "# First, group and aggregate lists for each column\n",
    "properties_grouped = properties[~properties['property'].isin(['available', 'categoryid'])].groupby(['timestamp', 'itemid']).agg({\n",
    "    'property': list,\n",
    "    'cat_props': list,\n",
    "    'num_props': list\n",
    "}).reset_index()\n",
    "\n",
    "# Now, create the dictionary column\n",
    "properties_grouped['property_dict'] = properties_grouped.apply(property_dict, axis=1)\n",
    "\n",
    "# Show the resulting DataFrame with the new dictionary column\n",
    "properties_grouped[['timestamp', 'itemid', 'property_dict']].head()"
   ]
  },
  {
   "cell_type": "code",
   "execution_count": null,
   "id": "c8cad94a",
   "metadata": {},
   "outputs": [],
   "source": [
    "properties_grouped = properties_grouped[['timestamp', 'itemid', 'property_dict']]"
   ]
  },
  {
   "cell_type": "code",
   "execution_count": null,
   "id": "5a7aa5c0",
   "metadata": {},
   "outputs": [],
   "source": [
    "# Timestamp mínimo por itemid na tabela de propriedades\n",
    "min_ts_props = properties_grouped.groupby('itemid')['timestamp'].min()\n",
    "\n",
    "# Merge para trazer a data mínima das propriedades para os eventos\n",
    "events_filtered = events.merge(\n",
    "    min_ts_props.rename('min_prop_ts'), \n",
    "    on='itemid', \n",
    "    how='left'\n",
    ")\n",
    "\n",
    "# Filtra eventos ocorridos após a primeira propriedade do item\n",
    "events_filtered = events_filtered[events_filtered['timestamp'] >= events_filtered['min_prop_ts']]\n",
    "events_filtered = events_filtered.drop(columns='min_prop_ts')"
   ]
  },
  {
   "cell_type": "code",
   "execution_count": null,
   "id": "2e481a92",
   "metadata": {},
   "outputs": [],
   "source": [
    "# Hashing dimensionality — ajustável com base na complexidade do modelo\n",
    "HASH_SIZE = 512\n",
    "MAX_NUM_PROPS = 20  # limite de valores numéricos por item (pode ajustar)\n",
    "\n",
    "# Inicializa o hasher\n",
    "hasher = FeatureHasher(n_features=HASH_SIZE, input_type='string')\n",
    "\n",
    "def process_property_dict(property_dict):\n",
    "    cat_tokens = []\n",
    "    num_values = []\n",
    "\n",
    "    for prop_name, values in property_dict.items():\n",
    "        # Ignora propriedades indesejadas\n",
    "        if prop_name in ['categoryid', 'available']:\n",
    "            continue\n",
    "\n",
    "        # Categorias: gerar tokens como '790=1047026'\n",
    "        cat_props = values.get('cat_props', [])\n",
    "        for val in cat_props:\n",
    "            cat_tokens.append(f\"{prop_name}={val}\")\n",
    "        \n",
    "        # Numéricos: adiciona diretamente\n",
    "        num_values.extend(values.get('num_props', []))\n",
    "\n",
    "    # Vetor hashing das categorias\n",
    "    hashed_vec = hasher.transform([cat_tokens]).toarray()[0]\n",
    "\n",
    "    # Normaliza o número de num_props\n",
    "    num_values = (num_values + [0.0] * MAX_NUM_PROPS)[:MAX_NUM_PROPS]\n",
    "    \n",
    "    # Vetor final de contexto\n",
    "    context_vector = np.concatenate([hashed_vec, np.array(num_values)])\n",
    "\n",
    "    return context_vector"
   ]
  },
  {
   "cell_type": "code",
   "execution_count": null,
   "id": "e7fbbfbc",
   "metadata": {},
   "outputs": [],
   "source": [
    "properties_grouped['context'] = properties_grouped['property_dict'].apply(process_property_dict)"
   ]
  },
  {
   "cell_type": "code",
   "execution_count": null,
   "id": "0c87b3d4",
   "metadata": {},
   "outputs": [],
   "source": [
    "# Ordena para merge_asof\n",
    "events_filtered = events_filtered.sort_values(['timestamp', 'itemid'])\n",
    "properties_grouped = properties_grouped.sort_values(['timestamp', 'itemid'])\n",
    "\n",
    "# Junta o contexto mais recente antes de cada evento\n",
    "df_merged = pd.merge_asof(\n",
    "    events_filtered,\n",
    "    properties_grouped[['itemid', 'timestamp', 'context']],\n",
    "    on='timestamp',\n",
    "    by='itemid',\n",
    "    direction='backward'\n",
    ")"
   ]
  },
  {
   "cell_type": "code",
   "execution_count": null,
   "id": "af6c2d04",
   "metadata": {},
   "outputs": [
    {
     "data": {
      "text/plain": [
       "np.int64(0)"
      ]
     },
     "metadata": {},
     "output_type": "display_data"
    }
   ],
   "source": [
    "# Check for NaN values in the 'context' column of df_merged\n",
    "df_merged['context'].isnull().sum()"
   ]
  },
  {
   "cell_type": "code",
   "execution_count": null,
   "id": "065798c1",
   "metadata": {},
   "outputs": [],
   "source": [
    "# Merge properties with categories to get the category names\n",
    "#properties = properties.merge(categories, left_on='property', right_on='categoryid', how='left')\n",
    "# Explode the cat_props and num_props columns\n",
    "#properties = properties.explode('cat_props').explode('num_props')\n",
    "# Merge properties with categories to get the category names\n",
    "#properties = properties.merge(categories, left_on='cat_props', right_on='categoryid', how='left')\n",
    "# Drop the 'categoryid' column as it's no longer needed\n",
    "#properties.drop(columns='categoryid', inplace=True)\n",
    "# Rename the columns for clarity\n",
    "#properties.rename(columns={'cat_props': 'categoryid', 'name': 'category_name'}, inplace=True)"
   ]
  },
  {
   "cell_type": "code",
   "execution_count": null,
   "id": "016df95f",
   "metadata": {},
   "outputs": [],
   "source": [
    "# Explode cat_props_list into a flat list of category ids\n",
    "#flat_cat_props = pd.Series(cat_props_list).explode().dropna().astype(int)\n",
    "#flat_cat_props.drop_duplicates(inplace=True)\n",
    "#flat_cat_props"
   ]
  },
  {
   "cell_type": "markdown",
   "id": "4b15e550",
   "metadata": {},
   "source": [
    "### Categories"
   ]
  },
  {
   "cell_type": "code",
   "execution_count": null,
   "id": "8144ebf0",
   "metadata": {},
   "outputs": [
    {
     "data": {
      "text/html": [
       "<div>\n",
       "<style scoped>\n",
       "    .dataframe tbody tr th:only-of-type {\n",
       "        vertical-align: middle;\n",
       "    }\n",
       "\n",
       "    .dataframe tbody tr th {\n",
       "        vertical-align: top;\n",
       "    }\n",
       "\n",
       "    .dataframe thead th {\n",
       "        text-align: right;\n",
       "    }\n",
       "</style>\n",
       "<table border=\"1\" class=\"dataframe\">\n",
       "  <thead>\n",
       "    <tr style=\"text-align: right;\">\n",
       "      <th></th>\n",
       "      <th>categoryid</th>\n",
       "      <th>parentid</th>\n",
       "    </tr>\n",
       "  </thead>\n",
       "  <tbody>\n",
       "    <tr>\n",
       "      <th>0</th>\n",
       "      <td>1016</td>\n",
       "      <td>213.0</td>\n",
       "    </tr>\n",
       "    <tr>\n",
       "      <th>1</th>\n",
       "      <td>809</td>\n",
       "      <td>169.0</td>\n",
       "    </tr>\n",
       "    <tr>\n",
       "      <th>2</th>\n",
       "      <td>570</td>\n",
       "      <td>9.0</td>\n",
       "    </tr>\n",
       "    <tr>\n",
       "      <th>3</th>\n",
       "      <td>1691</td>\n",
       "      <td>885.0</td>\n",
       "    </tr>\n",
       "    <tr>\n",
       "      <th>4</th>\n",
       "      <td>536</td>\n",
       "      <td>1691.0</td>\n",
       "    </tr>\n",
       "  </tbody>\n",
       "</table>\n",
       "</div>"
      ],
      "text/plain": [
       "   categoryid  parentid\n",
       "0        1016     213.0\n",
       "1         809     169.0\n",
       "2         570       9.0\n",
       "3        1691     885.0\n",
       "4         536    1691.0"
      ]
     },
     "metadata": {},
     "output_type": "display_data"
    }
   ],
   "source": [
    "categories.head()"
   ]
  },
  {
   "cell_type": "code",
   "execution_count": null,
   "id": "fdbac61d",
   "metadata": {},
   "outputs": [
    {
     "data": {
      "text/plain": [
       "1669"
      ]
     },
     "metadata": {},
     "output_type": "display_data"
    }
   ],
   "source": [
    "len(categories)"
   ]
  },
  {
   "cell_type": "code",
   "execution_count": null,
   "id": "ad374d4e",
   "metadata": {},
   "outputs": [
    {
     "data": {
      "text/plain": [
       "categoryid      int64\n",
       "parentid      float64\n",
       "dtype: object"
      ]
     },
     "metadata": {},
     "output_type": "display_data"
    }
   ],
   "source": [
    "# Check the data types of the columns\n",
    "categories.dtypes"
   ]
  },
  {
   "cell_type": "code",
   "execution_count": null,
   "id": "bc0501bf",
   "metadata": {},
   "outputs": [
    {
     "data": {
      "text/plain": [
       "categoryid     0\n",
       "parentid      25\n",
       "dtype: int64"
      ]
     },
     "metadata": {},
     "output_type": "display_data"
    }
   ],
   "source": [
    "# Check null values in the categories DataFrame\n",
    "categories.isnull().sum()"
   ]
  },
  {
   "cell_type": "code",
   "execution_count": null,
   "id": "57620065",
   "metadata": {},
   "outputs": [],
   "source": [
    "rootcat = categories[categories['parentid'].isnull()]\n",
    "firstgencat = categories[categories['parentid'].isin(rootcat['categoryid'])]\n",
    "secondgencat = categories[categories['parentid'].isin(firstgencat['categoryid'])]\n",
    "thirdgencat = categories[categories['parentid'].isin(secondgencat['categoryid'])]\n",
    "fourthgencat = categories[categories['parentid'].isin(thirdgencat['categoryid'])]\n",
    "fifthgencat = categories[categories['parentid'].isin(fourthgencat['categoryid'])]"
   ]
  },
  {
   "cell_type": "code",
   "execution_count": null,
   "id": "1676189a",
   "metadata": {},
   "outputs": [
    {
     "data": {
      "text/plain": [
       "1"
      ]
     },
     "metadata": {},
     "output_type": "display_data"
    }
   ],
   "source": [
    "len(rootcat[~rootcat['categoryid'].isin(firstgencat['parentid'])])\n",
    "#len(firstgencat[~firstgencat['categoryid'].isin(secondgencat['parentid'])])\n",
    "#len(secondgencat[~secondgencat['categoryid'].isin(thirdgencat['parentid'])])\n",
    "#len(thirdgencat[~thirdgencat['categoryid'].isin(fourthgencat['parentid'])])\n",
    "#len(fourthgencat[~fourthgencat['categoryid'].isin(fifthgencat['parentid'])])"
   ]
  },
  {
   "cell_type": "code",
   "execution_count": null,
   "id": "8d4191e1",
   "metadata": {},
   "outputs": [
    {
     "data": {
      "text/plain": [
       "1669"
      ]
     },
     "metadata": {},
     "output_type": "display_data"
    }
   ],
   "source": [
    "len(categories['categoryid'].unique())"
   ]
  },
  {
   "cell_type": "code",
   "execution_count": null,
   "id": "5b795104",
   "metadata": {},
   "outputs": [
    {
     "data": {
      "text/plain": [
       "1669"
      ]
     },
     "metadata": {},
     "output_type": "display_data"
    }
   ],
   "source": [
    "len(rootcat)+len(firstgencat)+len(secondgencat)+len(thirdgencat)+len(fourthgencat)+len(fifthgencat)"
   ]
  },
  {
   "cell_type": "code",
   "execution_count": null,
   "id": "433ceafd",
   "metadata": {},
   "outputs": [],
   "source": [
    "root = rootcat.rename(columns={'categoryid': 'root'}).drop(columns='parentid')\n",
    "layer_1 = firstgencat.rename(columns={'categoryid': 'layer_1', 'parentid': 'root'})\n",
    "layer_2 = secondgencat.rename(columns={'categoryid': 'layer_2', 'parentid': 'layer_1'})\n",
    "layer_3 = thirdgencat.rename(columns={'categoryid': 'layer_3', 'parentid': 'layer_2'})\n",
    "layer_4 = fourthgencat.rename(columns={'categoryid': 'layer_4', 'parentid': 'layer_3'})\n",
    "layer_5 = fifthgencat.rename(columns={'categoryid': 'layer_5', 'parentid': 'layer_4'})"
   ]
  },
  {
   "cell_type": "code",
   "execution_count": null,
   "id": "e82ff230",
   "metadata": {},
   "outputs": [],
   "source": [
    "tree_l5 = layer_5.merge(layer_4, on='layer_4').merge(layer_3, on='layer_3').merge(layer_2, on='layer_2').merge(layer_1, on='layer_1').merge(root, on='root')\n",
    "tree_l4 = layer_4.merge(layer_3, on='layer_3').merge(layer_2, on='layer_2').merge(layer_1, on='layer_1').merge(root, on='root')\n",
    "tree_l3 = layer_3.merge(layer_2, on='layer_2').merge(layer_1, on='layer_1').merge(root, on='root')\n",
    "tree_l2 = layer_2.merge(layer_1, on='layer_1').merge(root, on='root')\n",
    "tree_l1 = layer_1.merge(root, on='root')\n",
    "cat_tree = pd.concat([tree_l1, tree_l2, tree_l3, tree_l4, tree_l5], ignore_index=True)"
   ]
  },
  {
   "cell_type": "code",
   "execution_count": null,
   "id": "3419af44",
   "metadata": {},
   "outputs": [
    {
     "data": {
      "text/html": [
       "<div>\n",
       "<style scoped>\n",
       "    .dataframe tbody tr th:only-of-type {\n",
       "        vertical-align: middle;\n",
       "    }\n",
       "\n",
       "    .dataframe tbody tr th {\n",
       "        vertical-align: top;\n",
       "    }\n",
       "\n",
       "    .dataframe thead th {\n",
       "        text-align: right;\n",
       "    }\n",
       "</style>\n",
       "<table border=\"1\" class=\"dataframe\">\n",
       "  <thead>\n",
       "    <tr style=\"text-align: right;\">\n",
       "      <th></th>\n",
       "      <th>root</th>\n",
       "      <th>layer_1</th>\n",
       "      <th>layer_2</th>\n",
       "      <th>layer_3</th>\n",
       "      <th>layer_4</th>\n",
       "      <th>layer_5</th>\n",
       "    </tr>\n",
       "  </thead>\n",
       "  <tbody>\n",
       "    <tr>\n",
       "      <th>1151</th>\n",
       "      <td>140.0</td>\n",
       "      <td>61.0</td>\n",
       "      <td>323.0</td>\n",
       "      <td>1558.0</td>\n",
       "      <td>NaN</td>\n",
       "      <td>NaN</td>\n",
       "    </tr>\n",
       "    <tr>\n",
       "      <th>760</th>\n",
       "      <td>140.0</td>\n",
       "      <td>61.0</td>\n",
       "      <td>323.0</td>\n",
       "      <td>NaN</td>\n",
       "      <td>NaN</td>\n",
       "      <td>NaN</td>\n",
       "    </tr>\n",
       "    <tr>\n",
       "      <th>1153</th>\n",
       "      <td>140.0</td>\n",
       "      <td>61.0</td>\n",
       "      <td>897.0</td>\n",
       "      <td>120.0</td>\n",
       "      <td>NaN</td>\n",
       "      <td>NaN</td>\n",
       "    </tr>\n",
       "    <tr>\n",
       "      <th>1007</th>\n",
       "      <td>140.0</td>\n",
       "      <td>61.0</td>\n",
       "      <td>897.0</td>\n",
       "      <td>1098.0</td>\n",
       "      <td>NaN</td>\n",
       "      <td>NaN</td>\n",
       "    </tr>\n",
       "    <tr>\n",
       "      <th>1528</th>\n",
       "      <td>140.0</td>\n",
       "      <td>61.0</td>\n",
       "      <td>897.0</td>\n",
       "      <td>1317.0</td>\n",
       "      <td>NaN</td>\n",
       "      <td>NaN</td>\n",
       "    </tr>\n",
       "    <tr>\n",
       "      <th>...</th>\n",
       "      <td>...</td>\n",
       "      <td>...</td>\n",
       "      <td>...</td>\n",
       "      <td>...</td>\n",
       "      <td>...</td>\n",
       "      <td>...</td>\n",
       "    </tr>\n",
       "    <tr>\n",
       "      <th>732</th>\n",
       "      <td>1698.0</td>\n",
       "      <td>1678.0</td>\n",
       "      <td>305.0</td>\n",
       "      <td>NaN</td>\n",
       "      <td>NaN</td>\n",
       "      <td>NaN</td>\n",
       "    </tr>\n",
       "    <tr>\n",
       "      <th>730</th>\n",
       "      <td>1698.0</td>\n",
       "      <td>1678.0</td>\n",
       "      <td>455.0</td>\n",
       "      <td>NaN</td>\n",
       "      <td>NaN</td>\n",
       "      <td>NaN</td>\n",
       "    </tr>\n",
       "    <tr>\n",
       "      <th>779</th>\n",
       "      <td>1698.0</td>\n",
       "      <td>1678.0</td>\n",
       "      <td>1346.0</td>\n",
       "      <td>NaN</td>\n",
       "      <td>NaN</td>\n",
       "      <td>NaN</td>\n",
       "    </tr>\n",
       "    <tr>\n",
       "      <th>731</th>\n",
       "      <td>1698.0</td>\n",
       "      <td>1678.0</td>\n",
       "      <td>1554.0</td>\n",
       "      <td>NaN</td>\n",
       "      <td>NaN</td>\n",
       "      <td>NaN</td>\n",
       "    </tr>\n",
       "    <tr>\n",
       "      <th>123</th>\n",
       "      <td>1698.0</td>\n",
       "      <td>1678.0</td>\n",
       "      <td>NaN</td>\n",
       "      <td>NaN</td>\n",
       "      <td>NaN</td>\n",
       "      <td>NaN</td>\n",
       "    </tr>\n",
       "  </tbody>\n",
       "</table>\n",
       "<p>1644 rows × 6 columns</p>\n",
       "</div>"
      ],
      "text/plain": [
       "        root  layer_1  layer_2  layer_3  layer_4  layer_5\n",
       "1151   140.0     61.0    323.0   1558.0      NaN      NaN\n",
       "760    140.0     61.0    323.0      NaN      NaN      NaN\n",
       "1153   140.0     61.0    897.0    120.0      NaN      NaN\n",
       "1007   140.0     61.0    897.0   1098.0      NaN      NaN\n",
       "1528   140.0     61.0    897.0   1317.0      NaN      NaN\n",
       "...      ...      ...      ...      ...      ...      ...\n",
       "732   1698.0   1678.0    305.0      NaN      NaN      NaN\n",
       "730   1698.0   1678.0    455.0      NaN      NaN      NaN\n",
       "779   1698.0   1678.0   1346.0      NaN      NaN      NaN\n",
       "731   1698.0   1678.0   1554.0      NaN      NaN      NaN\n",
       "123   1698.0   1678.0      NaN      NaN      NaN      NaN\n",
       "\n",
       "[1644 rows x 6 columns]"
      ]
     },
     "metadata": {},
     "output_type": "display_data"
    }
   ],
   "source": [
    "neworder = ['root','layer_1','layer_2','layer_3','layer_4','layer_5']\n",
    "cat_tree = cat_tree.reindex(neworder, axis=1).sort_values(by=neworder)\n",
    "cat_tree"
   ]
  },
  {
   "cell_type": "code",
   "execution_count": null,
   "id": "01000158",
   "metadata": {},
   "outputs": [
    {
     "data": {
      "text/html": [
       "<div>\n",
       "<style scoped>\n",
       "    .dataframe tbody tr th:only-of-type {\n",
       "        vertical-align: middle;\n",
       "    }\n",
       "\n",
       "    .dataframe tbody tr th {\n",
       "        vertical-align: top;\n",
       "    }\n",
       "\n",
       "    .dataframe thead th {\n",
       "        text-align: right;\n",
       "    }\n",
       "</style>\n",
       "<table border=\"1\" class=\"dataframe\">\n",
       "  <thead>\n",
       "    <tr style=\"text-align: right;\">\n",
       "      <th></th>\n",
       "      <th>root</th>\n",
       "      <th>layer_1</th>\n",
       "      <th>layer_2</th>\n",
       "      <th>layer_3</th>\n",
       "      <th>layer_4</th>\n",
       "      <th>layer_5</th>\n",
       "    </tr>\n",
       "  </thead>\n",
       "  <tbody>\n",
       "    <tr>\n",
       "      <th>1</th>\n",
       "      <td>250.0</td>\n",
       "      <td>7.0</td>\n",
       "      <td>NaN</td>\n",
       "      <td>NaN</td>\n",
       "      <td>NaN</td>\n",
       "      <td>NaN</td>\n",
       "    </tr>\n",
       "    <tr>\n",
       "      <th>67</th>\n",
       "      <td>250.0</td>\n",
       "      <td>74.0</td>\n",
       "      <td>NaN</td>\n",
       "      <td>NaN</td>\n",
       "      <td>NaN</td>\n",
       "      <td>NaN</td>\n",
       "    </tr>\n",
       "    <tr>\n",
       "      <th>64</th>\n",
       "      <td>250.0</td>\n",
       "      <td>238.0</td>\n",
       "      <td>NaN</td>\n",
       "      <td>NaN</td>\n",
       "      <td>NaN</td>\n",
       "      <td>NaN</td>\n",
       "    </tr>\n",
       "    <tr>\n",
       "      <th>149</th>\n",
       "      <td>250.0</td>\n",
       "      <td>329.0</td>\n",
       "      <td>NaN</td>\n",
       "      <td>NaN</td>\n",
       "      <td>NaN</td>\n",
       "      <td>NaN</td>\n",
       "    </tr>\n",
       "    <tr>\n",
       "      <th>72</th>\n",
       "      <td>250.0</td>\n",
       "      <td>391.0</td>\n",
       "      <td>NaN</td>\n",
       "      <td>NaN</td>\n",
       "      <td>NaN</td>\n",
       "      <td>NaN</td>\n",
       "    </tr>\n",
       "    <tr>\n",
       "      <th>...</th>\n",
       "      <td>...</td>\n",
       "      <td>...</td>\n",
       "      <td>...</td>\n",
       "      <td>...</td>\n",
       "      <td>...</td>\n",
       "      <td>...</td>\n",
       "    </tr>\n",
       "    <tr>\n",
       "      <th>359</th>\n",
       "      <td>250.0</td>\n",
       "      <td>1669.0</td>\n",
       "      <td>814.0</td>\n",
       "      <td>NaN</td>\n",
       "      <td>NaN</td>\n",
       "      <td>NaN</td>\n",
       "    </tr>\n",
       "    <tr>\n",
       "      <th>634</th>\n",
       "      <td>250.0</td>\n",
       "      <td>1669.0</td>\n",
       "      <td>1226.0</td>\n",
       "      <td>NaN</td>\n",
       "      <td>NaN</td>\n",
       "      <td>NaN</td>\n",
       "    </tr>\n",
       "    <tr>\n",
       "      <th>357</th>\n",
       "      <td>250.0</td>\n",
       "      <td>1669.0</td>\n",
       "      <td>1440.0</td>\n",
       "      <td>NaN</td>\n",
       "      <td>NaN</td>\n",
       "      <td>NaN</td>\n",
       "    </tr>\n",
       "    <tr>\n",
       "      <th>37</th>\n",
       "      <td>250.0</td>\n",
       "      <td>1669.0</td>\n",
       "      <td>NaN</td>\n",
       "      <td>NaN</td>\n",
       "      <td>NaN</td>\n",
       "      <td>NaN</td>\n",
       "    </tr>\n",
       "    <tr>\n",
       "      <th>48</th>\n",
       "      <td>250.0</td>\n",
       "      <td>1695.0</td>\n",
       "      <td>NaN</td>\n",
       "      <td>NaN</td>\n",
       "      <td>NaN</td>\n",
       "      <td>NaN</td>\n",
       "    </tr>\n",
       "  </tbody>\n",
       "</table>\n",
       "<p>96 rows × 6 columns</p>\n",
       "</div>"
      ],
      "text/plain": [
       "      root  layer_1  layer_2  layer_3  layer_4  layer_5\n",
       "1    250.0      7.0      NaN      NaN      NaN      NaN\n",
       "67   250.0     74.0      NaN      NaN      NaN      NaN\n",
       "64   250.0    238.0      NaN      NaN      NaN      NaN\n",
       "149  250.0    329.0      NaN      NaN      NaN      NaN\n",
       "72   250.0    391.0      NaN      NaN      NaN      NaN\n",
       "..     ...      ...      ...      ...      ...      ...\n",
       "359  250.0   1669.0    814.0      NaN      NaN      NaN\n",
       "634  250.0   1669.0   1226.0      NaN      NaN      NaN\n",
       "357  250.0   1669.0   1440.0      NaN      NaN      NaN\n",
       "37   250.0   1669.0      NaN      NaN      NaN      NaN\n",
       "48   250.0   1695.0      NaN      NaN      NaN      NaN\n",
       "\n",
       "[96 rows x 6 columns]"
      ]
     },
     "metadata": {},
     "output_type": "display_data"
    }
   ],
   "source": [
    "cat_tree[cat_tree['root']==250]"
   ]
  },
  {
   "cell_type": "code",
   "execution_count": null,
   "id": "8e1b6f15",
   "metadata": {},
   "outputs": [
    {
     "data": {
      "text/plain": [
       "True"
      ]
     },
     "metadata": {},
     "output_type": "display_data"
    }
   ],
   "source": [
    "# Check if the total number of categories matches the sum of all category levels\n",
    "len(categories) == len(rootcat) + len(firstgencat) + len(secondgencat) + len(thirdgencat) + len(fourthgencat) + len(fifthgencat)"
   ]
  },
  {
   "cell_type": "code",
   "execution_count": null,
   "id": "b665a578",
   "metadata": {},
   "outputs": [
    {
     "data": {
      "text/plain": [
       "363"
      ]
     },
     "metadata": {},
     "output_type": "display_data"
    }
   ],
   "source": [
    "categories['parentid'].unique().size"
   ]
  }
 ],
 "metadata": {
  "language_info": {
   "name": "python"
  }
 },
 "nbformat": 4,
 "nbformat_minor": 5
}
