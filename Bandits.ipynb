{
 "cells": [
  {
   "cell_type": "markdown",
   "id": "bad29233",
   "metadata": {},
   "source": [
    "# Multi-armed Bandit Classes"
   ]
  },
  {
   "cell_type": "markdown",
   "id": "69aef878",
   "metadata": {},
   "source": [
    "## Epsilon-Greedy"
   ]
  },
  {
   "cell_type": "code",
   "execution_count": 49,
   "id": "95692496",
   "metadata": {},
   "outputs": [],
   "source": [
    "class EpsilonGreedy:\n",
    "    def __init__(self, epsilon: float, n_features: int, learning_rate: float = 0.1):\n",
    "        self.epsilon = epsilon\n",
    "        self.lr = learning_rate\n",
    "        self.n_features = n_features\n",
    "        self.weights = {}  # item_id -> vetor de pesos\n",
    "        \n",
    "    def _get_weights(self, item_id):\n",
    "        # Verifica se o item_id já tem pesos, caso contrário inicializa com zeros\n",
    "        if item_id not in self.weights:\n",
    "            self.weights[item_id] = np.zeros(self.n_features)\n",
    "        return self.weights[item_id]\n",
    "    \n",
    "    def predict(self, item_id, context_vector):\n",
    "        weights = self._get_weights(item_id)\n",
    "        # Normaliza o vetor de contexto para evitar problemas de escala\n",
    "        context_vector = context_vector / np.linalg.norm(context_vector) if np.linalg.norm(context_vector) > 0 else context_vector\n",
    "        # Calcula a previsão como o produto escalar entre os pesos e o vetor de contexto\n",
    "        return np.dot(weights, context_vector)\n",
    "    \n",
    "    def select_item(self, candidate_items_contexts):\n",
    "        if random.random() < self.epsilon:\n",
    "            return random.choice(list(candidate_items_contexts.keys()))\n",
    "\n",
    "        scores = {\n",
    "            item_id: self.predict(item_id, context)\n",
    "            for item_id, context in candidate_items_contexts.items()\n",
    "        }\n",
    "        return max(scores, key=scores.get)\n",
    "        \n",
    "    def update(self, item_id, context_vector, reward):\n",
    "        weights = self._get_weights(item_id)\n",
    "        prediction = self.predict(item_id, context_vector)\n",
    "        error = reward - prediction\n",
    "        self.weights[item_id] += self.lr * error * context_vector"
   ]
  }
 ],
 "metadata": {
  "kernelspec": {
   "display_name": ".venv",
   "language": "python",
   "name": "python3"
  },
  "language_info": {
   "codemirror_mode": {
    "name": "ipython",
    "version": 3
   },
   "file_extension": ".py",
   "mimetype": "text/x-python",
   "name": "python",
   "nbconvert_exporter": "python",
   "pygments_lexer": "ipython3",
   "version": "3.12.0"
  }
 },
 "nbformat": 4,
 "nbformat_minor": 5
}
